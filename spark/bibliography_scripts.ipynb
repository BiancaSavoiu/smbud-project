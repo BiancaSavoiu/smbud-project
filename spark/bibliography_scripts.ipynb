{
 "cells": [
  {
   "cell_type": "code",
   "source": [
    "# Dowloading pyspark\n",
    "#!pip install pyspark"
   ],
   "metadata": {
    "colab": {
     "base_uri": "https://localhost:8080/"
    },
    "id": "U4ugBnQJt8dk",
    "outputId": "16695f04-6931-4395-dc6f-f1cc9a9af174"
   },
   "execution_count": 111,
   "outputs": []
  },
  {
   "cell_type": "markdown",
   "source": [
    "PREPARE THE ENVIRONMENT, UPLOAD DATA, PREPROCESS DATA AND CREATE THE TABLES: Author, Paper, Affiliation, Book, Journal and Conference"
   ],
   "metadata": {
    "collapsed": false
   }
  },
  {
   "cell_type": "code",
   "execution_count": 112,
   "metadata": {
    "collapsed": true,
    "id": "Z_x5j05jtu8f"
   },
   "outputs": [],
   "source": [
    "# With sparkSession we create a connection to our database\n",
    "from pyspark.sql import SparkSession\n",
    "from pyspark.sql.types import StructType, StructField, StringType, IntegerType, ArrayType, TimestampType\n",
    "from pyspark.sql.functions import count, col, monotonically_increasing_id, collect_list, explode\n",
    "\n",
    "# Create an entry point to the PySpark Application\n",
    "spark = SparkSession.builder \\\n",
    "      .master(\"local\") \\\n",
    "      .appName(\"Bibliography\") \\\n",
    "      .getOrCreate()\n",
    "\n",
    "INPUT_FILE = \"bibliography.json\"\n",
    "OPTIONS = {'multiline': 'true', 'allowNumericLeadingZero': 'true','timestampFormat': \"yyyy-MM-dd'T'HH:mm:ss[.ZZZ'Z']\"}"
   ]
  },
  {
   "cell_type": "code",
   "execution_count": 113,
   "outputs": [
    {
     "name": "stdout",
     "output_type": "stream",
     "text": [
      "root\n",
      " |-- authorID: string (nullable = true)\n",
      " |-- name: string (nullable = true)\n",
      " |-- email: string (nullable = true)\n",
      " |-- bio: string (nullable = true)\n",
      "\n"
     ]
    },
    {
     "name": "stderr",
     "output_type": "stream",
     "text": [
      "[Stage 986:>                                                        (0 + 1) / 1]\r"
     ]
    },
    {
     "name": "stdout",
     "output_type": "stream",
     "text": [
      "+--------------------+------------------+--------------------+--------------------+\n",
      "|            authorID|              name|               email|                 bio|\n",
      "+--------------------+------------------+--------------------+--------------------+\n",
      "|53f3186fdabfae9a8...|   A. M. A. Hariri|a..m..a..hariride...|My name is A. M. ...|\n",
      "|53f3186fdabfae9a8...|    Matthew Prowse|matthew.prowsefb@...|My name is Matthe...|\n",
      "|53f31870dabfae9a8...|       Sui-ping Qi|sui-ping.qi19@gma...|My name is Sui-pi...|\n",
      "|53f31871dabfae9a8...|     Renato Fabbri|renato.fabbrib7@g...|My name is Renato...|\n",
      "|53f31873dabfae9a8...|   Joachim Schimpf|joachim.schimpf8a...|My name is Joachi...|\n",
      "|53f31874dabfae9a8...|    E. Di Bernardo|e..di.bernardo10@...|My name is E. Di ...|\n",
      "|53f31875dabfae9a8...|    Steven F. Roth|steven.f..roth46@...|My name is Steven...|\n",
      "|53f31878dabfae9a8...|      Nima Zahadat|nima.zahadat3d@gm...|My name is Nima Z...|\n",
      "|53f3187ddabfae9a8...|         Ke Fa Cen|ke.fa.cen23@gmail...|My name is Ke Fa ...|\n",
      "|53f31881dabfae9a8...|    Ricky Houghton|ricky.houghton97@...|My name is Ricky ...|\n",
      "|53f31881dabfae9a8...|Eduardo H. Ramirez|eduardo.h..ramire...|My name is Eduard...|\n",
      "|53f31883dabfae9a8...| Cassidy J. Curtis|cassidy.j..curtis...|My name is Cassid...|\n",
      "|53f31885dabfae9a8...|  Brian D. Koblenz|brian.d..koblenz4...|My name is Brian ...|\n",
      "|53f31887dabfae9a8...|        Guohua Wan|guohua.wanca@gmai...|My name is Guohua...|\n",
      "|53f3188adabfae9a8...|     Irineu Theiss|irineu.theissfe@g...|My name is Irineu...|\n",
      "|53f31892dabfae9a8...|     Derek Yip-Hoi|derek.yip-hoidd@g...|My name is Derek ...|\n",
      "|53f31892dabfae9a8...|     Soo-Hyung Kim|soo-hyung.kimf5@g...|My name is Soo-Hy...|\n",
      "|53f31893dabfae9a8...|      Harold Lorin|harold.lorin7c@gm...|My name is Harold...|\n",
      "|53f3189ddabfae9a8...|    J. Nagy-György|j..nagy-györgyf4@...|My name is J. Nag...|\n",
      "|53f3189ddabfae9a8...|    Roy Varshavsky|roy.varshavsky1d@...|My name is Roy Va...|\n",
      "+--------------------+------------------+--------------------+--------------------+\n",
      "only showing top 20 rows\n",
      "\n"
     ]
    },
    {
     "name": "stderr",
     "output_type": "stream",
     "text": [
      "                                                                                \r"
     ]
    }
   ],
   "source": [
    "#AUTHOR TABLE\n",
    "schemaAut = StructType(\n",
    "            [StructField('authors', ArrayType(StructType([\n",
    "                StructField('_id', StringType(), nullable = False),\n",
    "                StructField('name', StringType(), True),\n",
    "                StructField('email', StringType(), True),\n",
    "                StructField('bio', StringType(), True),\n",
    "                ])), True)\n",
    "            ])\n",
    "\n",
    "dfAut = spark.read.format('json').options(**OPTIONS).schema(schemaAut).json(INPUT_FILE)\n",
    "dfAut = dfAut.select(explode(dfAut.authors))\n",
    "dfAut = dfAut.withColumnRenamed(\"col\", \"authors\")\n",
    "dfAut = dfAut.filter(col(\"authors._id\") != \"null\").select(\"authors._id\",\"authors.name\",\"authors.email\", \"authors.bio\")\n",
    "dfAut = dfAut.withColumnRenamed(\"_id\", \"authorID\")\n",
    "dfAut = dfAut.dropDuplicates([\"authorID\"])\n",
    "dfAut.printSchema()\n",
    "dfAut.show()"
   ],
   "metadata": {
    "colab": {
     "base_uri": "https://localhost:8080/"
    },
    "id": "xybS0CvNtu8g",
    "outputId": "a1017f96-3c28-4a5d-f7df-6b8a91488120"
   }
  },
  {
   "cell_type": "code",
   "execution_count": 114,
   "outputs": [
    {
     "name": "stdout",
     "output_type": "stream",
     "text": [
      "root\n",
      " |-- paperID: string (nullable = true)\n",
      " |-- title: string (nullable = true)\n",
      " |-- keywords: array (nullable = true)\n",
      " |    |-- element: string (containsNull = true)\n",
      " |-- fos: array (nullable = true)\n",
      " |    |-- element: string (containsNull = true)\n",
      " |-- references: array (nullable = true)\n",
      " |    |-- element: string (containsNull = true)\n",
      " |-- page_start: integer (nullable = true)\n",
      " |-- page_end: integer (nullable = true)\n",
      " |-- lang: string (nullable = true)\n",
      " |-- doi: string (nullable = true)\n",
      " |-- url: array (nullable = true)\n",
      " |    |-- element: string (containsNull = true)\n",
      " |-- abstract: string (nullable = true)\n",
      " |-- publication_type: string (nullable = true)\n",
      " |-- date: timestamp (nullable = true)\n",
      "\n"
     ]
    },
    {
     "name": "stderr",
     "output_type": "stream",
     "text": [
      "[Stage 989:>                                                        (0 + 1) / 1]\r"
     ]
    },
    {
     "name": "stdout",
     "output_type": "stream",
     "text": [
      "+--------------------+--------------------+--------------------+--------------------+--------------------+----------+--------+----+--------------------+--------------------+--------------------+----------------+-------------------+\n",
      "|             paperID|               title|            keywords|                 fos|          references|page_start|page_end|lang|                 doi|                 url|            abstract|publication_type|               date|\n",
      "+--------------------+--------------------+--------------------+--------------------+--------------------+----------+--------+----+--------------------+--------------------+--------------------+----------------+-------------------+\n",
      "|53e99784b7602d970...|Using XML to Inte...|[internet, hyperm...|[xml base, world ...|[53e9adbdb7602d97...|       167|     172|  en|10.1109/CMPSAC.20...|[http://dx.doi.or...|The eXtensible Ma...|            Book|1974-09-13 06:34:29|\n",
      "|53e99784b7602d970...|               FCLOS|[molap, subsumpti...|[information syst...|[53e99ee0b7602d97...|       192|     220|  en|10.1016/j.datak.2...|[http://dx.doi.or...|Mobile online ana...|         Journal|1950-04-14 05:33:22|\n",
      "|53e99785b7602d970...|              Bhoomi|[icts, e governan...|[revenue, transpa...|[53e9b2ffb7602d97...|        20|      31|  en|10.1016/j.tele.20...|[http://dx.doi.or...|The emergence of ...|         Journal|1984-04-06 03:49:29|\n",
      "|53e9978ab7602d970...|                Laps|[health care, hom...|[health care, pop...|[573695936e3b1202...|       962|     976|  en|10.1016/j.ejor.20...|[http://dx.doi.or...|The health care s...|         Journal|1951-10-28 04:52:04|\n",
      "|53e9978db7602d970...|             Mindful|[meta learning, h...|[data science, ro...|[53e9b0c2b7602d97...|      3253|    3274|  en|10.1016/j.ins.200...|[http://dx.doi.or...|Common inductive ...|         Journal|1955-04-13 19:06:45|\n",
      "|53e9978db7602d970...|             MESHMdl|[tuple space, mob...|[middleware, mobi...|[53e99a49b7602d97...|       467|     487|  en|10.1016/j.pmcj.20...|[http://dx.doi.or...|Mobile ad hoc net...|         Journal|2009-09-23 09:35:36|\n",
      "|53e9978db7602d970...|               iCity|[irregular cellul...|[software tool, a...|[53e9ac54b7602d97...|       761|     773|  en|10.1016/j.envsoft...|[http://dx.doi.or...|The objective of ...|         Journal|2002-05-14 19:30:38|\n",
      "|53e9978db7602d970...|              Wisdom|[decision support...|[cognitive map, r...|[53e99b7eb7602d97...|       156|     171|  en|10.1016/j.ejor.20...|[http://dx.doi.or...|Many decision sup...|         Journal|1987-12-30 04:51:23|\n",
      "|53e99792b7602d970...|        SwissAnalyst|         [key words]|[computer science...|[5c795a6e4895d9cb...|       393|     406|  en|10.1007/1-4020-81...|                null|This paper introd...|      Conference|1991-03-30 19:52:33|\n",
      "|53e99792b7602d970...|Short-Term Traffi...|[considerable acc...|[spline mathemati...|[53e9b95bb7602d97...|       669|     675|  en|10.1109/FSKD.2008...|[http://dx.doi.or...|A promising traff...|      Conference|2020-03-15 04:13:40|\n",
      "|53e99792b7602d970...|An approach to fe...|[feature location...|[data mining, cau...|[53e9b6eeb7602d97...|        57|      68|  en|10.1016/j.jss.200...|[http://dx.doi.or...|This paper descri...|         Journal|2012-05-05 11:48:40|\n",
      "|53e99792b7602d970...|Nested Graph-Stru...|[nested graph str...|[adjacency matrix...|[53e9b049b7602d97...|         1|      12|  en|  10.1007/BFb0056317|[http://dx.doi.or...|This paper descri...|            Book|1965-07-21 08:40:34|\n",
      "|53e99792b7602d970...|Demo: Yalut -- us...|[cellular data tr...|[world wide web, ...|[53e9b04eb7602d97...|       360|     361|  en|10.1145/2594368.2...|[http://dx.doi.or...|Yalut is a novel ...|      Conference|2009-02-24 08:00:34|\n",
      "|53e99792b7602d970...|A Uniform Paralle...|[knowledge discov...|[data mining, dat...|[53e99cbbb7602d97...|       306|     312|  en|10.1007/978-3-540...|[http://dx.doi.or...|Grid is a new sol...|         Journal|2015-02-28 22:51:57|\n",
      "|53e99792b7602d970...|WAVELET-BASED IMA...|[mathematical mod...|[computer vision,...|[53e9b550b7602d97...|      1737|    1740|  en|10.1109/ICIP.2010...|[http://dx.doi.or...|Because digital i...|      Conference|2005-12-16 23:43:26|\n",
      "|53e99792b7602d970...|A fuzzy multi-obj...|[location, fire s...|[objective progra...|[53e9bd50b7602d97...|       903|     915|  en|10.1016/j.ejor.20...|[http://dx.doi.or...|Location of fire ...|         Journal|1971-12-17 16:55:38|\n",
      "|53e99792b7602d970...|Adaptive presenta...|[evolving informa...|[metadata, progra...|[53e9a2c8b7602d97...|       193|     196|  en|10.1109/ICALT.200...|[http://dx.doi.or...|The article descr...|            Book|2011-05-08 17:41:02|\n",
      "|53e99792b7602d970...|Testing the stabi...|[asymptotic justi...|[functional princ...|[53e9ace1b7602d97...|       352|     367|  en|10.1016/j.jmva.20...|[http://dx.doi.or...|The functional au...|         Journal|1984-05-13 13:56:58|\n",
      "|53e99792b7602d970...|Statistical Prope...|[power cables, po...|[topology, trippi...|[53e9a7ddb7602d97...|      2517|    2526|  en|10.1109/HICSS.201...|[http://dx.doi.or...|We present the sy...|      Conference|2018-08-18 19:58:00|\n",
      "|53e99792b7602d970...|Generating novel ...|[adaptive behavio...|[interactive evol...|[53e9bc80b7602d97...|         8|      14|  en|10.1145/1056754.1...|[http://dx.doi.or...|Simulated evoluti...|         Journal|2021-05-05 05:11:38|\n",
      "+--------------------+--------------------+--------------------+--------------------+--------------------+----------+--------+----+--------------------+--------------------+--------------------+----------------+-------------------+\n",
      "only showing top 20 rows\n",
      "\n"
     ]
    },
    {
     "name": "stderr",
     "output_type": "stream",
     "text": [
      "                                                                                \r"
     ]
    }
   ],
   "source": [
    "# PAPER TABLE WITHOUT PUBLICATION_ID\n",
    "schemaPaper = StructType(\n",
    "            [StructField('_id', StringType(), True),\n",
    "             StructField('title', StringType(),True),\n",
    "             StructField('keywords', ArrayType(StringType()), True),\n",
    "             StructField('fos', ArrayType(StringType()), True),\n",
    "             StructField('references', ArrayType(StringType()), True),\n",
    "             StructField('page_start', IntegerType(), True),\n",
    "             StructField('page_end', IntegerType(), True),\n",
    "             StructField('lang', StringType(),True),\n",
    "             StructField('doi', StringType(),True),\n",
    "             StructField('url', ArrayType(StringType()),True),\n",
    "             StructField('abstract', StringType(),True),\n",
    "             StructField('publication_type', StringType(),True),\n",
    "             StructField('date', TimestampType(), True)\n",
    "            ])\n",
    "\n",
    "dfPaper = spark.read.format('json').options(**OPTIONS).schema(schemaPaper).json(INPUT_FILE)\n",
    "dfPaper = dfPaper.withColumnRenamed(\"_id\", \"paperID\")\n",
    "dfPaper.printSchema()\n",
    "dfPaper.show()"
   ],
   "metadata": {
    "colab": {
     "base_uri": "https://localhost:8080/"
    },
    "id": "C-vDxweftu8h",
    "outputId": "94a27c1e-6ae1-4e50-b693-0cb659d6eb53"
   }
  },
  {
   "cell_type": "code",
   "execution_count": 115,
   "outputs": [
    {
     "name": "stdout",
     "output_type": "stream",
     "text": [
      "root\n",
      " |-- paperId: string (nullable = true)\n",
      " |-- authorID: string (nullable = true)\n",
      " |-- organization: string (nullable = true)\n",
      "\n"
     ]
    },
    {
     "name": "stderr",
     "output_type": "stream",
     "text": [
      "[Stage 990:>                                                        (0 + 1) / 1]\r"
     ]
    },
    {
     "name": "stdout",
     "output_type": "stream",
     "text": [
      "+--------------------+--------------------+--------------------+\n",
      "|             paperId|            authorID|        organization|\n",
      "+--------------------+--------------------+--------------------+\n",
      "|53e998c7b7602d970...|53f3186fdabfae9a8...|Department of Sta...|\n",
      "|53e99827b7602d970...|53f3186fdabfae9a8...|Laboratory for Fo...|\n",
      "|53e99924b7602d970...|53f31870dabfae9a8...|Henan Academy of ...|\n",
      "|53e998dbb7602d970...|53f31871dabfae9a8...|Instituto de Físi...|\n",
      "|53e998f6b7602d970...|53f31873dabfae9a8...|                null|\n",
      "|53e998bfb7602d970...|53f31874dabfae9a8...|                null|\n",
      "|53e9984bb7602d970...|53f31875dabfae9a8...|                null|\n",
      "|53e998e8b7602d970...|53f31878dabfae9a8...|George Mason Univ...|\n",
      "|53e99905b7602d970...|53f3187ddabfae9a8...|State Key Laborat...|\n",
      "|53e998e9b7602d970...|53f31881dabfae9a8...|                null|\n",
      "|53e9984fb7602d970...|53f31881dabfae9a8...|Tecnologico de Mo...|\n",
      "|53e9980eb7602d970...|53f31883dabfae9a8...|University of Was...|\n",
      "|53e997e9b7602d970...|53f31885dabfae9a8...|Digital Equipment...|\n",
      "|53e998b0b7602d970...|53f31887dabfae9a8...|Antai College of ...|\n",
      "|53e998cdb7602d970...|53f31887dabfae9a8...|Department of Ind...|\n",
      "|53e998f0b7602d970...|53f3188adabfae9a8...|E-Gov, Juridical ...|\n",
      "|53e998fcb7602d970...|53f31892dabfae9a8...|2250 G G Brown, A...|\n",
      "|53e99998b7602d970...|53f31892dabfae9a8...|Chonnam National ...|\n",
      "|53e99800b7602d970...|53f31893dabfae9a8...|IBM Systems Resea...|\n",
      "|53e99866b7602d970...|53f3189ddabfae9a8...|Department of Mat...|\n",
      "+--------------------+--------------------+--------------------+\n",
      "only showing top 20 rows\n",
      "\n"
     ]
    },
    {
     "name": "stderr",
     "output_type": "stream",
     "text": [
      "                                                                                \r"
     ]
    }
   ],
   "source": [
    "# AFFILIATION TABLE\n",
    "schemaAffiliation = StructType(\n",
    "            [StructField('_id', StringType(), True),\n",
    "             StructField('authors', ArrayType(StructType([\n",
    "                    StructField('_id', StringType(), True),\n",
    "                    StructField('org', StringType(), True)\n",
    "             ])), True),\n",
    "            ])\n",
    "\n",
    "dfAff = spark.read.format('json').options(**OPTIONS).schema(schemaAffiliation).json(INPUT_FILE)\n",
    "dfAff = dfAff.withColumnRenamed(\"_id\", \"paperID\")\n",
    "dfAff = dfAff.select(\"paperId\", explode(dfAff.authors))\n",
    "dfAff = dfAff.withColumnRenamed(\"col\", \"authors\")\n",
    "dfAff = dfAff.filter(col(\"authors._id\") != \"null\").filter(col(\"paperId\") != \"null\").select(\"paperId\", \"authors._id\",\"authors.org\")\n",
    "dfAff = dfAff.withColumnRenamed(\"_id\", \"authorID\")\n",
    "dfAff = dfAff.dropDuplicates([\"authorID\", \"paperID\"])\n",
    "dfAff = dfAff.withColumnRenamed(\"org\", \"organization\")\n",
    "dfAff.printSchema()\n",
    "dfAff.show()"
   ],
   "metadata": {
    "id": "-7_3Hptttu8h"
   }
  },
  {
   "cell_type": "code",
   "execution_count": 116,
   "outputs": [
    {
     "name": "stdout",
     "output_type": "stream",
     "text": [
      "Schema of the books\n",
      "root\n",
      " |-- venue: string (nullable = true)\n",
      " |-- isbn: string (nullable = true)\n",
      " |-- publisher: string (nullable = true)\n",
      " |-- publication id: long (nullable = false)\n",
      "\n",
      "Books\n",
      "+------------------------------------------------------------------------------------+-------------+--------------------------------------------------+--------------+\n",
      "|venue                                                                               |isbn         |publisher                                         |publication id|\n",
      "+------------------------------------------------------------------------------------+-------------+--------------------------------------------------+--------------+\n",
      "|ACM SIGSOFT Software Engineering Notes                                              |-159593-125-2|AGH University of Science and Technology          |0             |\n",
      "|Theor. Comput. Sci.                                                                 |0-0304-3975  |Elsevier                                          |1             |\n",
      "|ACL (Companion)                                                                     |0-111-456789 |Intellect Ltd.                                    |2             |\n",
      "|VLDB                                                                                |0-12-088469-0|The American Society of Mechanical Engineers(ASME)|3             |\n",
      "|Papers from the second workshop Vol. 13 on Human and Machine Vision II              |0-12-597345-4|SpringerOpen                                      |4             |\n",
      "|VLDB                                                                                |0-12-722442-4|Open Library of Humanities                        |5             |\n",
      "|Artif. Intell. Rev.                                                                 |0-13-176751-8|World Scientific Publishing Co. Pte Ltd           |6             |\n",
      "|SFCS '85 Proceedings of the 26th Annual Symposium on Foundations of Computer Science|0-13-652017-0|Elsevier                                          |7             |\n",
      "|CHI                                                                                 |0-201-30987-4|AGH University of Science and Technology          |8             |\n",
      "|Computer Human Interaction                                                          |0-201-30987-4|Brown University                                  |9             |\n",
      "|SIGGRAPH                                                                            |0-201-48560-5|Springer Science + Business Media                 |10            |\n",
      "|CHI                                                                                 |0-201-50932-6|Elsevier                                          |11            |\n",
      "|Sigplan Notices                                                                     |0-201-53372-3|Elsevier                                          |12            |\n",
      "|ISSAC                                                                               |0-201-54892-5|Taylor and Francis Ltd.                           |13            |\n",
      "|History of programming languages---II                                               |0-201-89502-1|Springer Verlag                                   |14            |\n",
      "|Neural Networks                                                                     |0-262-03188-4|Elsevier                                          |15            |\n",
      "|Computational Statistics                                                            |0-262-10076-2|Springer Science + Business Media                 |16            |\n",
      "|Symposium on Programming Language Implementation and Logic Programming              |0-262-19297-7|Elsevier                                          |17            |\n",
      "|AAAI                                                                                |0-262-51057-X|Tsinghua University Press                         |18            |\n",
      "|Artif. Intell.                                                                      |0-262-51091-X|Editorial and Publishing Board of JIG             |19            |\n",
      "+------------------------------------------------------------------------------------+-------------+--------------------------------------------------+--------------+\n",
      "only showing top 20 rows\n",
      "\n"
     ]
    },
    {
     "name": "stderr",
     "output_type": "stream",
     "text": [
      "                                                                                \r"
     ]
    }
   ],
   "source": [
    "# BOOK TABLE\n",
    "# Preprocessing of the books for cleaning and merging the books\n",
    "book_schema_preprocessing = StructType(\n",
    "    [StructField('_id', StringType(), True),\n",
    "     StructField('isbn', StringType(), True),\n",
    "     StructField('publisher', StringType(), True),\n",
    "     StructField('venue', StringType(), True),\n",
    "     StructField('publication_type', StringType(),True)])\n",
    "\n",
    "# Reading the json file\n",
    "dfbooks_to_filter = spark.read.format('json').options(**OPTIONS).schema(book_schema_preprocessing).json(INPUT_FILE)\n",
    "\n",
    "# Filtering and adjusting the dataframe\n",
    "dfbooks_to_filter = dfbooks_to_filter.filter(col('publication_type') == 'Book').filter(col('isbn') != 'null').filter(col('venue') != 'null')\n",
    "dfbooks_to_filter = dfbooks_to_filter.groupBy('isbn', 'venue').agg(collect_list('publisher').alias('publishersArray'), collect_list('_id').alias('_id'), count(col('publisher'))) # count can be removed (I was interested in evaluating if the group by was meaningful)\n",
    "dfbooks_to_insert = dfbooks_to_filter.withColumn('publisher', dfbooks_to_filter['publishersArray'][0]).select('venue', 'isbn', 'publisher', '_id')\n",
    "\n",
    "# Adding the new column which is the id\n",
    "df_books = dfbooks_to_insert.withColumn('publication id', monotonically_increasing_id())\n",
    "\n",
    "# Adding the foreign key to the papers\n",
    "exploded_books = df_books.select(explode('_id'), 'publication id')\n",
    "# exploded_books.show(truncate = False)\n",
    "\n",
    "df_papers_in_books = exploded_books.join(dfPaper, exploded_books.col == dfPaper.paperID)\n",
    "df_papers_in_books = df_papers_in_books.drop('col')\n",
    "\n",
    "df_books = df_books.drop(df_books._id)\n",
    "\n",
    "# Visualizing the data\n",
    "# print('Papers')\n",
    "# df_papers_in_books.show(truncate = False)\n",
    "print('Schema of the books')\n",
    "df_books.printSchema()\n",
    "print('Books')\n",
    "df_books.show(truncate=False)"
   ],
   "metadata": {
    "colab": {
     "base_uri": "https://localhost:8080/"
    },
    "id": "zqmfgPeotu8i",
    "outputId": "2f974fc0-568e-43ba-d9ee-495d6ec52bd0"
   }
  },
  {
   "cell_type": "code",
   "execution_count": 117,
   "outputs": [
    {
     "name": "stdout",
     "output_type": "stream",
     "text": [
      "Schema of the journals\n",
      "root\n",
      " |-- venue: string (nullable = true)\n",
      " |-- volume: integer (nullable = true)\n",
      " |-- issue: integer (nullable = true)\n",
      " |-- publisher: string (nullable = true)\n",
      " |-- issn: string (nullable = true)\n",
      " |-- publication id: long (nullable = false)\n",
      "\n",
      "Journals\n",
      "+-----------------------+------+-----+------------------------------------------------------------------+---------+--------------+\n",
      "|venue                  |volume|issue|publisher                                                         |issn     |publication id|\n",
      "+-----------------------+------+-----+------------------------------------------------------------------+---------+--------------+\n",
      "|4OR                    |2     |4    |Inderscience Publishers                                           |1614-2411|0             |\n",
      "|4OR                    |3     |1    |Accent Social and Welfare Society                                 |1614-2411|1             |\n",
      "|4OR                    |4     |1    |Innovative Information Science & Technology Research Group (ISYOU)|1614-2411|2             |\n",
      "|4OR                    |4     |3    |Elsevier                                                          |1614-2411|3             |\n",
      "|4OR                    |6     |2    |John Wiley & Sons Inc.                                            |1614-2411|4             |\n",
      "|4OR                    |6     |4    |Elsevier                                                          |1614-2411|5             |\n",
      "|4OR                    |7     |2    |Taylor and Francis Ltd.                                           |1614-2411|6             |\n",
      "|4OR                    |8     |2    |Intellect Ltd.                                                    |1614-2411|7             |\n",
      "|4OR                    |8     |4    |Springer London                                                   |1614-2411|8             |\n",
      "|4OR                    |11    |2    |IOP Publishing Ltd.                                               |1614-2411|9             |\n",
      "|A retargetable debugger|27    |7    |IEEE Computer Society                                             |0362-1340|10            |\n",
      "|AAAI                   |21    |12   |Hindawi Publishing Corporation                                    |1041-4347|11            |\n",
      "|AAIM                   |106   |4    |AGH University of Science and Technology                          |0020-0190|12            |\n",
      "|ACL                    |95    |3    |Wiley-Blackwell Publishing Ltd                                    |0885-6125|13            |\n",
      "|ACM Comput. Surv.      |10    |4    |Intellect Ltd.                                                    |0360-0300|14            |\n",
      "|ACM Comput. Surv.      |15    |3    |Elsevier                                                          |0360-0300|15            |\n",
      "|ACM Comput. Surv.      |15    |4    |Universidad Internacional de la Rioja                             |0360-0300|16            |\n",
      "|ACM Comput. Surv.      |16    |3    |Technischen Universitat Braunschweig                              |0360-0300|17            |\n",
      "|ACM Comput. Surv.      |18    |4    |Springer London                                                   |0360-0300|18            |\n",
      "|ACM Comput. Surv.      |27    |1    |Wiley-Blackwell Publishing Ltd                                    |0360-0300|19            |\n",
      "+-----------------------+------+-----+------------------------------------------------------------------+---------+--------------+\n",
      "only showing top 20 rows\n",
      "\n"
     ]
    },
    {
     "name": "stderr",
     "output_type": "stream",
     "text": [
      "                                                                                \r"
     ]
    }
   ],
   "source": [
    "# JOURNAL TABLE\n",
    "# Preprocessing of the journals for cleaning and merging the journals\n",
    "\n",
    "journal_schema_preprocessing = StructType(\n",
    "    [StructField('_id', StringType(), True),\n",
    "     StructField('issn', StringType(), True),\n",
    "     StructField('publisher', StringType(), True),\n",
    "     StructField('venue', StringType(), True),\n",
    "     StructField('volume', IntegerType(), True),\n",
    "     StructField('issue', IntegerType(), True),\n",
    "     StructField('publication_type', StringType(),True)])\n",
    "\n",
    "# Reading the json file\n",
    "df_journals_to_filter = spark.read.format('json').options(**OPTIONS).schema(journal_schema_preprocessing).json(INPUT_FILE)\n",
    "\n",
    "# Filtering and adjusting the dataframe\n",
    "df_journals_to_filter = df_journals_to_filter.filter(col('publication_type') == 'Journal').filter(col('issn') != 'null').filter(col('venue') != 'null').filter(col('issue') >= 0).filter(col('volume') >= 0)\n",
    "df_journals_to_filter = df_journals_to_filter.groupBy('venue', 'volume', 'issue', 'issn').agg(collect_list('publisher').alias('publishersArray'), collect_list('_id').alias('_id'), count(col('publisher'))) # count can be removed (I was interested in evaluating if the group by was meaningful)\n",
    "df_journals_to_insert = df_journals_to_filter.withColumn('publisher', df_journals_to_filter['publishersArray'][0]).select('venue', 'volume', 'issue', 'publisher', 'issn', '_id')\n",
    "\n",
    "# Adding the new column which contains the publication identifier\n",
    "df_journals = df_journals_to_insert.withColumn(\"publication id\", monotonically_increasing_id())\n",
    "\n",
    "# Adding the foreign key to the papers\n",
    "exploded_journals = df_journals.select(explode('_id'), 'publication id')\n",
    "#exploded_journals.show(truncate = False)\n",
    "\n",
    "df_papers_in_journals = exploded_journals.join(dfPaper, exploded_journals.col == dfPaper.paperID, \"inner\")\n",
    "df_papers_in_journals = df_papers_in_journals.drop('col')\n",
    "\n",
    "df_journals = df_journals.drop(df_journals._id)\n",
    "\n",
    "# Visualizing the data\n",
    "# print('Papers')\n",
    "# df_papers_in_journals.show(truncate = False)\n",
    "print('Schema of the journals')\n",
    "df_journals.printSchema()\n",
    "print('Journals')\n",
    "df_journals.show(truncate=False)"
   ],
   "metadata": {
    "id": "89LRMyw_tu8j",
    "outputId": "26eb8ca5-7534-41db-b705-89c28b7c4a5d",
    "colab": {
     "base_uri": "https://localhost:8080/"
    }
   }
  },
  {
   "cell_type": "code",
   "source": [
    "#from google.colab import drive\n",
    "#drive.mount('/content/drive')"
   ],
   "metadata": {
    "colab": {
     "base_uri": "https://localhost:8080/"
    },
    "id": "83oeM1QfNJ1s",
    "outputId": "60775795-b132-4053-ba34-abbaddc2915e"
   },
   "execution_count": 118,
   "outputs": []
  },
  {
   "cell_type": "code",
   "execution_count": 119,
   "outputs": [
    {
     "name": "stdout",
     "output_type": "stream",
     "text": [
      "Schema of the conferences\n",
      "root\n",
      " |-- venue: string (nullable = true)\n",
      " |-- location: string (nullable = true)\n",
      " |-- publication id: long (nullable = false)\n",
      "\n",
      "Conferences\n",
      "+----------------------------------------------------------------------------------------+--------------------------+--------------+\n",
      "|venue                                                                                   |location                  |publication id|\n",
      "+----------------------------------------------------------------------------------------+--------------------------+--------------+\n",
      "|\"EDUCON                                                                                 |Moscow, Russia            |0             |\n",
      "|2012 50TH ANNUAL ALLERTON CONFERENCE ON COMMUNICATION, CONTROL, AND COMPUTING (ALLERTON)|Dublin, Ireland           |1             |\n",
      "|2985415099                                                                              |Mexico City, Mexico       |2             |\n",
      "|2985532720                                                                              |Milan, Italy              |3             |\n",
      "|2987493177                                                                              |Osaka, Japan              |4             |\n",
      "|3D-GIS                                                                                  |London, UK                |5             |\n",
      "|3DIM                                                                                    |Johannesburg, South Africa|6             |\n",
      "|3DIMPVT                                                                                 |Helsinki, Finland         |7             |\n",
      "|3DOR                                                                                    |London, UK                |8             |\n",
      "|3DPVT                                                                                   |Amsterdam, Netherlands    |9             |\n",
      "|3DUI                                                                                    |Seoul, South Korea        |10            |\n",
      "|3DV                                                                                     |Jakarta, Indonesia        |11            |\n",
      "|3PGCIC                                                                                  |Beijing, China            |12            |\n",
      "|50 Years of Integer Programming                                                         |London, UK                |13            |\n",
      "|AAMAS                                                                                   |Milan, Italy              |14            |\n",
      "|AAMAS (2)                                                                               |Paris, France             |15            |\n",
      "|ACAI                                                                                    |Toronto, Canada           |16            |\n",
      "|ACC'09 Proceedings of the 2009 conference on American Control Conference                |Beijing, China            |17            |\n",
      "|ACCV                                                                                    |London, UK                |18            |\n",
      "|ACCV (1)                                                                                |Tel Aviv, Israel          |19            |\n",
      "+----------------------------------------------------------------------------------------+--------------------------+--------------+\n",
      "only showing top 20 rows\n",
      "\n"
     ]
    },
    {
     "name": "stderr",
     "output_type": "stream",
     "text": [
      "                                                                                \r"
     ]
    }
   ],
   "source": [
    "# CONFERENCE TABLE\n",
    "# Preprocessing of the books for cleaning and merging the books\n",
    "\n",
    "schemaConf = StructType(\n",
    "    [StructField('_id', StringType(), True),\n",
    "     StructField('location', StringType(), True),\n",
    "     StructField('venue', StringType(), True),\n",
    "     StructField('publication_type', StringType(),True)])\n",
    "# Reading the json file\n",
    "df_conferences_to_filter = spark.read.format('json').options(**OPTIONS).schema(schemaConf).json(INPUT_FILE)\n",
    "\n",
    "# Filtering and adjusting the dataframe\n",
    "df_conferences_to_filter = df_conferences_to_filter.filter(col('publication_type') == 'Conference').filter(col('venue') != 'null')\n",
    "df_conferences_to_filter = df_conferences_to_filter.groupBy('venue').agg(collect_list('location').alias('locations_array'), collect_list('_id').alias('_id'), count(col('location'))) # count can be removed (I was interested in evaluating if the group by was meaningful)\n",
    "df_conferences_to_insert = df_conferences_to_filter.withColumn('location', df_conferences_to_filter['locations_array'][0]).select('venue', 'location', '_id')\n",
    "\n",
    "# Adding the new column which is the id\n",
    "df_conferences = df_conferences_to_insert.withColumn('publication id', monotonically_increasing_id())\n",
    "\n",
    "# Adding the foreign key to the papers\n",
    "exploded_conferences = df_conferences.select(explode('_id'), 'publication id')\n",
    "#exploded_conferences.show(truncate = False)\n",
    "\n",
    "df_papers_in_conferences = exploded_conferences.join(dfPaper, exploded_conferences.col == dfPaper.paperID)\n",
    "df_papers_in_conferences = df_papers_in_conferences.drop('col')\n",
    "\n",
    "df_conferences = df_conferences.drop(df_conferences._id)\n",
    "\n",
    "# Visualizing the data\n",
    "#print('Papers')\n",
    "#df_papers_in_conferences.show(truncate = False)\n",
    "print('Schema of the conferences')\n",
    "df_conferences.printSchema()\n",
    "print('Conferences')\n",
    "df_conferences.show(truncate=False)"
   ],
   "metadata": {
    "id": "Kg1YCsjOtu8j",
    "outputId": "49857958-d4f3-4c70-af57-3d37c9f4eda1",
    "colab": {
     "base_uri": "https://localhost:8080/"
    }
   }
  },
  {
   "cell_type": "code",
   "source": [
    "# Merging the 3 dataframe which one contains the papers published in a specific media\n",
    "df_papers = df_papers_in_books.union(df_papers_in_journals).union(df_papers_in_conferences)\n",
    "\n",
    "# Visualizing the data\n",
    "print('Papers schema')\n",
    "df_papers.printSchema()\n",
    "print('Papers data')\n",
    "df_papers.show()"
   ],
   "metadata": {
    "colab": {
     "base_uri": "https://localhost:8080/"
    },
    "id": "0R1ExLMi_T0a",
    "outputId": "0cb410f1-3c60-4a55-f727-fb6a1c7eec5e"
   },
   "execution_count": 120,
   "outputs": [
    {
     "name": "stdout",
     "output_type": "stream",
     "text": [
      "Papers schema\n",
      "root\n",
      " |-- publication id: long (nullable = false)\n",
      " |-- paperID: string (nullable = true)\n",
      " |-- title: string (nullable = true)\n",
      " |-- keywords: array (nullable = true)\n",
      " |    |-- element: string (containsNull = true)\n",
      " |-- fos: array (nullable = true)\n",
      " |    |-- element: string (containsNull = true)\n",
      " |-- references: array (nullable = true)\n",
      " |    |-- element: string (containsNull = true)\n",
      " |-- page_start: integer (nullable = true)\n",
      " |-- page_end: integer (nullable = true)\n",
      " |-- lang: string (nullable = true)\n",
      " |-- doi: string (nullable = true)\n",
      " |-- url: array (nullable = true)\n",
      " |    |-- element: string (containsNull = true)\n",
      " |-- abstract: string (nullable = true)\n",
      " |-- publication_type: string (nullable = true)\n",
      " |-- date: timestamp (nullable = true)\n",
      "\n",
      "Papers data\n"
     ]
    },
    {
     "name": "stderr",
     "output_type": "stream",
     "text": [
      "[Stage 1005:>               (0 + 1) / 1][Stage 1007:>               (0 + 0) / 1]\r"
     ]
    },
    {
     "name": "stdout",
     "output_type": "stream",
     "text": [
      "+--------------+--------------------+--------------------+--------------------+--------------------+--------------------+----------+--------+----+--------------------+--------------------+--------------------+----------------+-------------------+\n",
      "|publication id|             paperID|               title|            keywords|                 fos|          references|page_start|page_end|lang|                 doi|                 url|            abstract|publication_type|               date|\n",
      "+--------------+--------------------+--------------------+--------------------+--------------------+--------------------+----------+--------+----+--------------------+--------------------+--------------------+----------------+-------------------+\n",
      "|          1775|53e997d1b7602d970...|A fault diagnosis...|[stuck at defects...|[computer testing...|[53e9bca6b7602d97...|       494|     494|  en|10.1109/EDTC.1997...|[http://dx.doi.or...|In this paper we ...|            Book|1950-09-08 12:23:35|\n",
      "|          5443|53e997e4b7602d970...|Problem Decomposi...|[problem decompos...|[inductive logic ...|[53e9a690b7602d97...|        17|      31|  en|10.1007/3-540-592...|[http://dx.doi.or...|One dimension of ...|            Book|1986-12-29 07:27:28|\n",
      "|           204|53e997e8b7602d970...|X-tract: Structur...|[information retr...|[information stru...|[53e9b0d8b7602d97...|         2|       2|  en|10.1109/SPIRE.199...|[http://computer....|Most available in...|            Book|1954-04-24 05:44:09|\n",
      "|          3210|53e997e8b7602d970...|Cognitive agent p...|[dynamic logic, a...|[functional logic...|[53e9b38fb7602d97...|      1385|    1385|  en|10.1145/1082473.1...|[http://dx.doi.or...|This is a summary...|            Book|1992-05-16 17:49:48|\n",
      "|          2086|53e997e9b7602d970...|Constraint based ...|[uniform framewor...|[computer science...|[53e9b326b7602d97...|       195|     204|  en|10.1145/318789.31...|[http://dx.doi.or...|The constraint tr...|            Book|1978-02-04 19:19:02|\n",
      "|          7645|53e997ecb7602d970...|Automatic input r...|[google picasa, d...|[novel technique,...|[53e9a29db7602d97...|        80|      90|  en|10.1109/ICSE.2012...|[http://dx.doi.or...|We present a nove...|            Book|1971-08-25 11:47:59|\n",
      "|          2962|53e997ecb7602d970...|Acceptability-ori...|[monitoring, acce...|[programming lang...|[53e9badfb7602d97...|        57|      75|  en|10.1145/966051.96...|[http://dx.doi.or...|We discuss a new ...|            Book|1964-08-09 22:48:00|\n",
      "|          7756|53e997ecb7602d970...|Anomalous Neighbo...|[column wise diff...|[mathematical opt...|[53e9a0a6b7602d97...|       474|     480|  en|10.1109/ICDMW.201...|[http://dx.doi.or...|We propose a meth...|            Book|1996-03-16 14:37:00|\n",
      "|          1635|53e997f1b7602d970...|A Digital Watermark.|[authentication, ...|[computer vision,...|[53e99822b7602d97...|        86|      90|  en|10.1109/ICIP.1994...|[http://dx.doi.or...|This paper discus...|            Book|2001-12-04 20:38:24|\n",
      "|          5856|53e997f4b7602d970...|Independent Tree ...|[independent tree...|[combinatorics, m...|[53e9b2f5b7602d97...|       203|     214|  en| 10.1007/10692760_17|[http://dx.doi.or...|\\n For any fixed ...|            Book|2014-02-26 04:06:46|\n",
      "|          1713|53e997f5b7602d970...|Inverting onto fu...|[nondeterministic...|[computer science...|[53e9b4afb7602d97...|       213|     222|  en|10.1016/S0890-540...|[http://dx.doi.or...|We look at the hy...|            Book|2015-12-31 07:56:33|\n",
      "|          5236|53e9980eb7602d970...|   EVES: An Overview|[never, formal me...|[programming lang...|[53e9a2bab7602d97...|       389|     405|  en|10.1007/3-540-548...|[http://dx.doi.or...|In this paper we ...|            Book|1972-08-07 17:35:34|\n",
      "|          1409|53e99813b7602d970...|Distributed proba...|[error correction...|[binary pattern, ...|[53e99a67b7602d97...|      3398|    3401|  en|10.1109/ICASSP.20...|[http://dx.doi.or...|This paper introd...|            Book|2016-08-28 14:12:19|\n",
      "|          5704|53e99818b7602d970...|Regulations by Va...|[power method, no...|[context sensitiv...|[53e9a946b7602d97...|       239|     248|  en|  10.1007/BFb0029967|[http://dx.doi.or...| . Valences are a...|            Book|1961-02-26 08:04:12|\n",
      "|          2836|53e99818b7602d970...|Reflections on sy...|[object oriented,...|[communication de...|[53e99832b7602d97...|        28|      33|  en|10.1145/1556262.1...|[http://dx.doi.or...|Symmetry is routi...|            Book|2009-10-03 17:07:24|\n",
      "|          1622|53e99827b7602d970...|Timestamping afte...|[committed transa...|[transaction proc...|[53e9b587b7602d97...|       160|     167|  en|10.1109/PDIS.1994...|[http://dx.doi.or...|Many applications...|            Book|1951-11-27 17:50:37|\n",
      "|          1650|53e99827b7602d970...|The Animachine re...|[useful effect, v...|[3d computer grap...|[53e9ab2bb7602d97...|        90|      90|  en|10.1109/CA.1995.3...|[http://doi.ieeec...|Two-dimensional a...|            Book|2007-10-16 04:48:40|\n",
      "|          6901|53e99827b7602d970...|     The CD1 system.|[advanced constra...|[sql, conceptual ...|[53e99967b7602d97...|         1|       9|  en|10.1007/978-3-642...|[http://dx.doi.or...|\\n We describe a ...|            Book|2013-03-31 03:16:37|\n",
      "|            50|53e9982cb7602d970...|Public-Key Regist...|[registration req...|[fixed access, cr...|[53e99a74b7602d97...|       451|     458|  en|10.1007/3-540-477...|[http://dx.doi.or...|A procedure is de...|            Book|1993-11-20 16:32:56|\n",
      "|          6805|53e9983db7602d970...|Learning Automata...|[blue fringe edsm...|[quantum finite a...|[53e9afa6b7602d97...|        52|      65|  en|10.1007/978-3-642...|[http://dx.doi.or...|\\n We prove in th...|            Book|1960-12-16 13:42:14|\n",
      "+--------------+--------------------+--------------------+--------------------+--------------------+--------------------+----------+--------+----+--------------------+--------------------+--------------------+----------------+-------------------+\n",
      "only showing top 20 rows\n",
      "\n"
     ]
    },
    {
     "name": "stderr",
     "output_type": "stream",
     "text": [
      "                                                                                \r"
     ]
    }
   ]
  },
  {
   "cell_type": "code",
   "source": [
    "# For checking the result\n",
    "print('Papers published in books')\n",
    "df_papers.filter(col('publication_type') == 'Book').select('paperID', 'title', 'publication_type', 'publication id').show()\n",
    "print('Papers published in journals')\n",
    "df_papers.filter(col('publication_type') == 'Journal').select('paperID', 'title', 'publication_type', 'publication id').show()\n",
    "print('Papers published in conferences')\n",
    "df_papers.filter(col('publication_type') == 'Conference').select('paperID', 'title', 'publication_type', 'publication id').show()\n"
   ],
   "metadata": {
    "colab": {
     "base_uri": "https://localhost:8080/"
    },
    "id": "oewBKgEsA1iK",
    "outputId": "1ade617b-d605-47fa-eee7-b0d239a305cb"
   },
   "execution_count": 121,
   "outputs": [
    {
     "name": "stdout",
     "output_type": "stream",
     "text": [
      "Papers published in books\n"
     ]
    },
    {
     "name": "stderr",
     "output_type": "stream",
     "text": [
      "                                                                                \r"
     ]
    },
    {
     "name": "stdout",
     "output_type": "stream",
     "text": [
      "+--------------------+--------------------+----------------+--------------+\n",
      "|             paperID|               title|publication_type|publication id|\n",
      "+--------------------+--------------------+----------------+--------------+\n",
      "|53e997d1b7602d970...|A fault diagnosis...|            Book|          1775|\n",
      "|53e997e4b7602d970...|Problem Decomposi...|            Book|          5443|\n",
      "|53e997e8b7602d970...|X-tract: Structur...|            Book|           204|\n",
      "|53e997e8b7602d970...|Cognitive agent p...|            Book|          3210|\n",
      "|53e997e9b7602d970...|Constraint based ...|            Book|          2086|\n",
      "|53e997ecb7602d970...|Automatic input r...|            Book|          7645|\n",
      "|53e997ecb7602d970...|Acceptability-ori...|            Book|          2962|\n",
      "|53e997ecb7602d970...|Anomalous Neighbo...|            Book|          7756|\n",
      "|53e997f1b7602d970...|A Digital Watermark.|            Book|          1635|\n",
      "|53e997f4b7602d970...|Independent Tree ...|            Book|          5856|\n",
      "|53e997f5b7602d970...|Inverting onto fu...|            Book|          1713|\n",
      "|53e9980eb7602d970...|   EVES: An Overview|            Book|          5236|\n",
      "|53e99813b7602d970...|Distributed proba...|            Book|          1409|\n",
      "|53e99818b7602d970...|Regulations by Va...|            Book|          5704|\n",
      "|53e99818b7602d970...|Reflections on sy...|            Book|          2836|\n",
      "|53e99827b7602d970...|Timestamping afte...|            Book|          1622|\n",
      "|53e99827b7602d970...|The Animachine re...|            Book|          1650|\n",
      "|53e99827b7602d970...|     The CD1 system.|            Book|          6901|\n",
      "|53e9982cb7602d970...|Public-Key Regist...|            Book|            50|\n",
      "|53e9983db7602d970...|Learning Automata...|            Book|          6805|\n",
      "+--------------------+--------------------+----------------+--------------+\n",
      "only showing top 20 rows\n",
      "\n",
      "Papers published in journals\n"
     ]
    },
    {
     "name": "stderr",
     "output_type": "stream",
     "text": [
      "                                                                                \r"
     ]
    },
    {
     "name": "stdout",
     "output_type": "stream",
     "text": [
      "+--------------------+--------------------+----------------+--------------+\n",
      "|             paperID|               title|publication_type|publication id|\n",
      "+--------------------+--------------------+----------------+--------------+\n",
      "|53e99915b7602d970...|A note on robust ...|         Journal|             0|\n",
      "|53e99984b7602d970...|A new approach fo...|         Journal|             1|\n",
      "|53e998b0b7602d970...|Two-machine flow ...|         Journal|             2|\n",
      "|53e9994cb7602d970...|Stochastic semide...|         Journal|             3|\n",
      "|53e9990db7602d970...|Models and algori...|         Journal|             4|\n",
      "|53e99952b7602d970...|Maximizing the mi...|         Journal|             5|\n",
      "|53e99800b7602d970...|Integer extended ...|         Journal|             6|\n",
      "|53e99858b7602d970...|Attraction probab...|         Journal|             7|\n",
      "|53e9998bb7602d970...|Strategy vs risk ...|         Journal|             8|\n",
      "|53e99915b7602d970...|A necessary 4-cyc...|         Journal|             9|\n",
      "|53e997f1b7602d970...|A retargetable de...|         Journal|            10|\n",
      "|53e997ddb7602d970...|Clustering with L...|         Journal|            11|\n",
      "|53e99858b7602d970...|Weighted broadcas...|         Journal|            12|\n",
      "|53e997f4b7602d970...|Interactive topic...|         Journal|            13|\n",
      "|53e99991b7602d970...|Graphics Programm...|         Journal|            14|\n",
      "|53e99832b7602d970...|Program Transform...|         Journal|            15|\n",
      "|53e9984bb7602d970...|Voice response sy...|         Journal|            16|\n",
      "|53e9982cb7602d970...|Parallel graph al...|         Journal|            17|\n",
      "|53e99813b7602d970...|Dataflow machine ...|         Journal|            18|\n",
      "|53e997d1b7602d970...|Can there be a sc...|         Journal|            19|\n",
      "+--------------------+--------------------+----------------+--------------+\n",
      "only showing top 20 rows\n",
      "\n",
      "Papers published in conferences\n"
     ]
    },
    {
     "name": "stderr",
     "output_type": "stream",
     "text": [
      "[Stage 1045:> (0 + 1) / 1][Stage 1047:> (0 + 0) / 1][Stage 1049:> (0 + 0) / 1]\r]"
     ]
    },
    {
     "name": "stdout",
     "output_type": "stream",
     "text": [
      "+--------------------+--------------------+----------------+--------------+\n",
      "|             paperID|               title|publication_type|publication id|\n",
      "+--------------------+--------------------+----------------+--------------+\n",
      "|53e99854b7602d970...|  The EOLES project.|      Conference|             0|\n",
      "|53e9989bb7602d970...|Life is engineeri...|      Conference|             0|\n",
      "|53e998bfb7602d970...|Gaining and maint...|      Conference|             0|\n",
      "|53e998c0b7602d970...|From manuals towa...|      Conference|             0|\n",
      "|53e998e9b7602d970...|Learning with com...|      Conference|             0|\n",
      "|53e99976b7602d970...|Cloud E-learning ...|      Conference|             0|\n",
      "|53e9997eb7602d970...|Motivating progra...|      Conference|             0|\n",
      "|53e99991b7602d970...|Monitoring studen...|      Conference|             0|\n",
      "|53e99998b7602d970...|OLAREX project: O...|      Conference|             0|\n",
      "|53e99859b7602d970...|Studying dynamic ...|      Conference|             1|\n",
      "|53e99860b7602d970...|Equivalence of br...|      Conference|             1|\n",
      "|53e998bfb7602d970...|Fish Schools: PDE...|      Conference|             2|\n",
      "|53e9997eb7602d970...|Automatic Generat...|      Conference|             3|\n",
      "|53e998fdb7602d970...|Fault-Tolerant Sc...|      Conference|             4|\n",
      "|53e9990db7602d970...|Automatic Generat...|      Conference|             5|\n",
      "|53e99822b7602d970...|Stroboscopic Ster...|      Conference|             6|\n",
      "|53e998bfb7602d970...|Image-Based Techn...|      Conference|             6|\n",
      "|53e9991cb7602d970...|Scanning and Proc...|      Conference|             6|\n",
      "|53e99940b7602d970...|Range Image Regis...|      Conference|             6|\n",
      "|53e99937b7602d970...|Cage-Based Motion...|      Conference|             7|\n",
      "+--------------------+--------------------+----------------+--------------+\n",
      "only showing top 20 rows\n",
      "\n"
     ]
    },
    {
     "name": "stderr",
     "output_type": "stream",
     "text": [
      "                                                                                \r"
     ]
    }
   ]
  },
  {
   "cell_type": "markdown",
   "source": [
    "COMMANDS"
   ],
   "metadata": {
    "collapsed": false
   }
  },
  {
   "cell_type": "code",
   "execution_count": 122,
   "outputs": [
    {
     "name": "stderr",
     "output_type": "stream",
     "text": [
      "                                                                                \r"
     ]
    },
    {
     "name": "stdout",
     "output_type": "stream",
     "text": [
      "+--------------------+----------------+-------------------+\n",
      "|               title|publication_type|               date|\n",
      "+--------------------+----------------+-------------------+\n",
      "|Generalized one-u...|      Conference|1951-01-03 03:43:07|\n",
      "|Predicting PDZ do...|         Journal|1951-01-03 03:43:07|\n",
      "|A New EDI-based D...|         Journal|1951-01-03 03:43:07|\n",
      "|Search-based Exec...|      Conference|1951-01-03 03:43:07|\n",
      "|Multi-structural ...|         Journal|1951-01-03 03:43:07|\n",
      "|Corpus-based ling...|            Book|1951-01-03 03:43:07|\n",
      "|A comparative stu...|         Journal|1951-01-03 03:43:07|\n",
      "|Fast Solution of ...|         Journal|1951-01-03 03:43:07|\n",
      "|Local Hausdorff D...|         Journal|1951-01-03 03:43:07|\n",
      "|Grammatical Evolu...|            Book|1951-01-03 03:43:07|\n",
      "|Global optimizati...|         Journal|1951-01-03 03:43:07|\n",
      "|Processing UML Mo...|            Book|1951-01-03 03:43:07|\n",
      "|Balancing buffer ...|         Journal|1951-01-03 03:43:07|\n",
      "|The Animation of ...|            Book|1951-01-03 03:43:07|\n",
      "|Composing graphic...|      Conference|1951-01-03 03:43:07|\n",
      "|Locally bounded c...|         Journal|1951-01-31 14:29:19|\n",
      "|Robust observer d...|         Journal|1951-01-31 14:29:19|\n",
      "|Object-oriented f...|            Book|1951-01-31 14:29:19|\n",
      "|A CRT-based RSA c...|            Book|1951-01-31 14:29:19|\n",
      "|Agent-based auctions|            Book|1951-01-31 14:29:19|\n",
      "+--------------------+----------------+-------------------+\n",
      "only showing top 20 rows\n",
      "\n"
     ]
    }
   ],
   "source": [
    "#Command 4: delete a group of rows\n",
    "\n",
    "# Use the function year to extract the year from the timestamp\n",
    "from pyspark.sql.functions import year\n",
    "\n",
    "# Drop rows with conditions – where clause\n",
    "# From 37626 to 37175 -> delete all the rows that represent papers published before 1950, because obsolete\n",
    "df_papers = df_papers.where(year('date') > '1950')\n",
    "df_papers.select('title', 'publication_type', 'date').orderBy('date').show()"
   ],
   "metadata": {
    "collapsed": false
   }
  },
  {
   "cell_type": "code",
   "execution_count": 123,
   "outputs": [
    {
     "name": "stdout",
     "output_type": "stream",
     "text": [
      "+-------------------------------------------------------------+----------+--------+-----------+\n",
      "|title                                                        |page_start|page_end|total_pages|\n",
      "+-------------------------------------------------------------+----------+--------+-----------+\n",
      "|Using XML to Integrate Existing Software Systems into the Web|167       |172     |5          |\n",
      "|FCLOS                                                        |192       |220     |28         |\n",
      "|Bhoomi                                                       |20        |31      |11         |\n",
      "|Laps                                                         |962       |976     |14         |\n",
      "|Mindful                                                      |3253      |3274    |21         |\n",
      "+-------------------------------------------------------------+----------+--------+-----------+\n",
      "only showing top 5 rows\n",
      "\n"
     ]
    }
   ],
   "source": [
    "#Command 5 create a new column with the length of the paper(number of total pages)\n",
    "dfPaper_total_pages = dfPaper \\\n",
    "    .filter((col('page_start') >= 0) & (col('page_end') >= 0) & (col('page_start') <= col('page_end'))) \\\n",
    "    .withColumn('total_pages', col('page_end') - col('page_start'))\n",
    "\n",
    "dfPaper_total_pages \\\n",
    "    .select(col('title'), col('page_start'), col('page_end'), col('total_pages')) \\\n",
    "    .show(5, truncate=False)"
   ],
   "metadata": {
    "collapsed": false
   }
  },
  {
   "cell_type": "markdown",
   "source": [
    "QUERIES"
   ],
   "metadata": {
    "collapsed": false
   }
  },
  {
   "cell_type": "code",
   "execution_count": 124,
   "outputs": [
    {
     "name": "stderr",
     "output_type": "stream",
     "text": [
      "[Stage 1076:>                                                       (0 + 1) / 1]\r"
     ]
    },
    {
     "name": "stdout",
     "output_type": "stream",
     "text": [
      "+-----------------------------------------+--------------------------------------------------+\n",
      "|                                publisher|                  total_publications_per_publisher|\n",
      "+-----------------------------------------+--------------------------------------------------+\n",
      "|                  Taylor and Francis Ltd.|[SAS, Special Interest Group on Software Engine...|\n",
      "|                                 Elsevier|[SAS, VAST, Focus on Scientific Visualization, ...|\n",
      "|Association for Computing Machinery (ACM)|[SRDS, SAS, Special Interest Group on Software ...|\n",
      "|                          Springer Verlag|[ECP, Special Interest Group on Software Engine...|\n",
      "+-----------------------------------------+--------------------------------------------------+\n",
      "\n"
     ]
    },
    {
     "name": "stderr",
     "output_type": "stream",
     "text": [
      "                                                                                \r"
     ]
    }
   ],
   "source": [
    "#Query 4: GROUP BY, JOIN, AS\n",
    "from pyspark.sql.functions import collect_set, concat, size\n",
    "\n",
    "df_journals_venue_rename = df_journals.withColumnRenamed('venue', 'venueJournals')\n",
    "df_books_venue_rename = df_books.withColumnRenamed('venue', 'venueBooks')\n",
    "df = df_books_venue_rename\\\n",
    "    .join(df_journals_venue_rename,\n",
    "          df_books_venue_rename.publisher == df_journals_venue_rename.publisher,\n",
    "          \"inner\")\\\n",
    "    .drop(df_journals.publisher)\\\n",
    "    .select('venueBooks', 'venueJournals', 'publisher')\\\n",
    "    .dropDuplicates(['venueBooks', 'venueJournals', 'publisher'])\\\n",
    "    .groupBy('publisher')\\\n",
    "    .agg(collect_set('venueBooks').alias('books'),\n",
    "         collect_set('venueJournals').alias('journals'))\\\n",
    "    .withColumn(\"total_publications_per_publisher\",\n",
    "                concat(col(\"books\"), col(\"journals\")))\\\n",
    "    .filter(size(col(\"total_publications_per_publisher\")) > '500')\\\n",
    "    .select('publisher', \"total_publications_per_publisher\")\\\n",
    "    .show(truncate = 50)"
   ],
   "metadata": {
    "collapsed": false
   }
  },
  {
   "cell_type": "markdown",
   "source": [],
   "metadata": {
    "collapsed": false
   }
  },
  {
   "cell_type": "code",
   "execution_count": 125,
   "outputs": [],
   "source": [
    "#Query 9: WHERE, GROUP BY, HAVING, 1 JOIN\n",
    "\n",
    "\n"
   ],
   "metadata": {
    "collapsed": false
   }
  }
 ],
 "metadata": {
  "kernelspec": {
   "display_name": "Python 3",
   "language": "python",
   "name": "python3"
  },
  "language_info": {
   "codemirror_mode": {
    "name": "ipython",
    "version": 2
   },
   "file_extension": ".py",
   "mimetype": "text/x-python",
   "name": "python",
   "nbconvert_exporter": "python",
   "pygments_lexer": "ipython2",
   "version": "2.7.6"
  },
  "colab": {
   "provenance": []
  }
 },
 "nbformat": 4,
 "nbformat_minor": 0
}
