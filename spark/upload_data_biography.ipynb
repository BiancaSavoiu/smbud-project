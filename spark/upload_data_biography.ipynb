{
 "cells": [
  {
   "cell_type": "code",
   "execution_count": 150,
   "metadata": {
    "collapsed": true
   },
   "outputs": [],
   "source": [
    "# With sparkSession we create a connection to our database\n",
    "from pyspark.sql import SparkSession\n",
    "\n",
    "# Create an entry point to the PySpark Application\n",
    "spark = SparkSession.builder \\\n",
    "      .master(\"local\") \\\n",
    "      .appName(\"Bibliography\") \\\n",
    "      .getOrCreate()"
   ]
  },
  {
   "cell_type": "code",
   "execution_count": 151,
   "outputs": [
    {
     "name": "stderr",
     "output_type": "stream",
     "text": [
      "                                                                                \r"
     ]
    },
    {
     "name": "stdout",
     "output_type": "stream",
     "text": [
      "26247 306 590 0\n",
      "root\n",
      " |-- _id: string (nullable = true)\n",
      " |-- title: string (nullable = true)\n",
      " |-- authors: array (nullable = true)\n",
      " |    |-- element: struct (containsNull = true)\n",
      " |    |    |-- _id: string (nullable = true)\n",
      " |    |    |-- name: string (nullable = true)\n",
      " |    |    |-- email: string (nullable = true)\n",
      " |    |    |-- bio: string (nullable = true)\n",
      " |-- keywords: array (nullable = true)\n",
      " |    |-- element: string (containsNull = true)\n",
      " |-- fos: array (nullable = true)\n",
      " |    |-- element: string (containsNull = true)\n",
      " |-- page_start: integer (nullable = true)\n",
      " |-- page_end: integer (nullable = true)\n",
      " |-- lang: string (nullable = true)\n",
      " |-- issue: string (nullable = true)\n",
      " |-- isbn: string (nullable = true)\n",
      " |-- doi: string (nullable = true)\n",
      "\n"
     ]
    },
    {
     "name": "stderr",
     "output_type": "stream",
     "text": [
      "[Stage 236:>                                                        (0 + 1) / 1]\r"
     ]
    },
    {
     "name": "stdout",
     "output_type": "stream",
     "text": [
      "+--------------------+--------------------+--------------------+--------------------+--------------------+----------+--------+----+-----+-------------+--------------------+\n",
      "|                 _id|               title|             authors|            keywords|                 fos|page_start|page_end|lang|issue|         isbn|                 doi|\n",
      "+--------------------+--------------------+--------------------+--------------------+--------------------+----------+--------+----+-----+-------------+--------------------+\n",
      "|53e99784b7602d970...|Using XML to Inte...|[{548a2e3ddabfae9...|[internet, hyperm...|[xml base, world ...|       167|     172|  en| null|0-7695-1727-7|10.1109/CMPSAC.20...|\n",
      "|53e99784b7602d970...|               FCLOS|[{53f43b64dabfaef...|[molap, subsumpti...|[information syst...|       192|     220|  en|    2|         null|10.1016/j.datak.2...|\n",
      "|53e99785b7602d970...|              Bhoomi|[{53f43640dabfaed...|[icts, e governan...|[revenue, transpa...|        20|      31|  en|    1|         null|10.1016/j.tele.20...|\n",
      "|53e9978ab7602d970...|                Laps|[{53f42d5cdabfaee...|[health care, hom...|[health care, pop...|       962|     976|  en|    3|         null|10.1016/j.ejor.20...|\n",
      "|53e9978db7602d970...|             Mindful|[{5448a3b5dabfae8...|[meta learning, h...|[data science, ro...|      3253|    3274|  en|   16|         null|10.1016/j.ins.200...|\n",
      "|53e9978db7602d970...|             MESHMdl|[{5601798145cedb3...|[tuple space, mob...|[middleware, mobi...|       467|     487|  en|    4|         null|10.1016/j.pmcj.20...|\n",
      "|53e9978db7602d970...|               iCity|[{53f43531dabfaeb...|[irregular cellul...|[software tool, a...|       761|     773|  en|    6|         null|10.1016/j.envsoft...|\n",
      "|53e9978db7602d970...|              Wisdom|[{53f43421dabfaee...|[decision support...|[cognitive map, r...|       156|     171|  en|    1|         null|10.1016/j.ejor.20...|\n",
      "|53e99792b7602d970...|        SwissAnalyst|[{53f436eddabfaee...|         [key words]|[computer science...|       393|     406|  en| null|         null|10.1007/1-4020-81...|\n",
      "|53e99792b7602d970...|Short-Term Traffi...|[{53f46e66dabfaee...|[considerable acc...|[spline mathemati...|       669|     675|  en| null|         null|10.1109/FSKD.2008...|\n",
      "|53e99792b7602d970...|An approach to fe...|[{53f43a51dabfaec...|[feature location...|[data mining, cau...|        57|      68|  en|    1|         null|10.1016/j.jss.200...|\n",
      "|53e99792b7602d970...|Nested Graph-Stru...|[{53f45e2adabfaeb...|[nested graph str...|[adjacency matrix...|         1|      12|  en| null|3-540-64990-5|  10.1007/BFb0056317|\n",
      "|53e99792b7602d970...|Demo: Yalut -- us...|[{53f4357bdabfaee...|[cellular data tr...|[world wide web, ...|       360|     361|  en| null|         null|10.1145/2594368.2...|\n",
      "|53e99792b7602d970...|A Uniform Paralle...|[{542a6734dabfae6...|[knowledge discov...|[data mining, dat...|       306|     312|  en| null|         null|10.1007/978-3-540...|\n",
      "|53e99792b7602d970...|WAVELET-BASED IMA...|[{53f432d2dabfaee...|[mathematical mod...|[computer vision,...|      1737|    1740|  en| null|         null|10.1109/ICIP.2010...|\n",
      "|53e99792b7602d970...|A fuzzy multi-obj...|[{5630ff9645cedb3...|[location, fire s...|[objective progra...|       903|     915|  en|    2|         null|10.1016/j.ejor.20...|\n",
      "|53e99792b7602d970...|Adaptive presenta...|[{56017d4445cedb3...|[evolving informa...|[metadata, progra...|       193|     196|  en| null|0-7695-1013-2|10.1109/ICALT.200...|\n",
      "|53e99792b7602d970...|Testing the stabi...|[{54301e81dabfaec...|[asymptotic justi...|[functional princ...|       352|     367|  en|    2|         null|10.1016/j.jmva.20...|\n",
      "|53e99792b7602d970...|Statistical Prope...|[{53f43756dabfaee...|[power cables, po...|[topology, trippi...|      2517|    2526|  en| null|         null|10.1109/HICSS.201...|\n",
      "|53e99792b7602d970...|Generating novel ...|[{53f42c98dabfaeb...|[adaptive behavio...|[interactive evol...|         8|      14|  en|    2|         null|10.1145/1056754.1...|\n",
      "+--------------------+--------------------+--------------------+--------------------+--------------------+----------+--------+----+-----+-------------+--------------------+\n",
      "only showing top 20 rows\n",
      "\n"
     ]
    },
    {
     "name": "stderr",
     "output_type": "stream",
     "text": [
      "                                                                                \r"
     ]
    }
   ],
   "source": [
    "#CHECK DATASET PROBLEMS ON A TEST DF\n",
    "from pyspark.sql.types import StructType, StructField, StringType, IntegerType, ArrayType\n",
    "from pyspark.sql.functions import explode, col\n",
    "\n",
    "schema = StructType(\n",
    "            [StructField('_id', StringType(), True),\n",
    "             StructField('title', StringType(),True),\n",
    "             StructField('authors', ArrayType(StructType([\n",
    "                StructField('_id', StringType(), True),\n",
    "                StructField('name', StringType(), True),\n",
    "                StructField('email', StringType(), True),\n",
    "                StructField('bio', StringType(), True),\n",
    "                ])), True),\n",
    "             StructField('keywords', ArrayType(StringType()), True),\n",
    "             StructField('fos', ArrayType(StringType()), True),\n",
    "             StructField('page_start', IntegerType(), True),\n",
    "             StructField('page_end', IntegerType(), True),\n",
    "             StructField('lang', StringType(),True),\n",
    "             StructField('issue', StringType(), True),\n",
    "             StructField('isbn', StringType(),True),\n",
    "             StructField('doi', StringType(),True),\n",
    "            ])\n",
    "\n",
    "\n",
    "df = spark.read.format('json').option(\"multiline\", True).schema(schema).json('bib.json')\n",
    "\n",
    "#Checks on the 'issue' to see what kind of data it has\n",
    "cnt = df.filter(col('issue').rlike('[0-9]+')).count()\n",
    "null = df.filter(col('issue') == 'null').count()\n",
    "string = df.filter(col('issue').rlike('[A-Za-z]+')).count()\n",
    "empty = df.filter(col('issue') == '').count()\n",
    "print(cnt, null, string, empty)\n",
    "\n",
    "df.printSchema()\n",
    "df.show()"
   ],
   "metadata": {
    "collapsed": false
   }
  },
  {
   "cell_type": "code",
   "execution_count": 152,
   "outputs": [
    {
     "name": "stdout",
     "output_type": "stream",
     "text": [
      "root\n",
      " |-- authorID: string (nullable = true)\n",
      " |-- name: string (nullable = true)\n",
      " |-- email: string (nullable = true)\n",
      " |-- bio: string (nullable = true)\n",
      "\n",
      "+--------------------+-------------------+--------------------+--------------------+\n",
      "|            authorID|               name|               email|                 bio|\n",
      "+--------------------+-------------------+--------------------+--------------------+\n",
      "|548a2e3ddabfae9b4...|     Harry M. Sneed|harry.m..sneedbc@...|My name is Harry ...|\n",
      "|53f43b64dabfaefed...|  Ilias Michalarias|ilias.michalarias...|My name is Ilias ...|\n",
      "|53f43354dabfaedd7...| Arkadiy Omelchenko|arkadiy.omelchenk...|My name is Arkadi...|\n",
      "|53f443b6dabfaeecd...|  Hans-Joachim Lenz|hans-joachim.lenz...|My name is Hans-J...|\n",
      "|53f43640dabfaedf4...|      Pradip Thomas|pradip.thomasfc@g...|My name is Pradip...|\n",
      "|53f42d5cdabfaee2a...|     Patrik Eveborn|patrik.eveborn56@...|My name is Patrik...|\n",
      "|53f433bedabfaee4d...|    Patrik Flisberg|patrik.flisberg17...|My name is Patrik...|\n",
      "|53f4538adabfaec22...|   Mikael Rönnqvist|mikael.rönnqvist3...|My name is Mikael...|\n",
      "|5448a3b5dabfae87b...|     Ciro Castiello|ciro.castiellocb@...|My name is Ciro C...|\n",
      "|54343235dabfaebba...|Giovanna Castellano|giovanna.castella...|My name is Giovan...|\n",
      "|5405bdb6dabfae8fa...| Anna Maria Fanelli|anna.maria.fanell...|My name is Anna M...|\n",
      "|5601798145cedb339...|     Klaus Herrmann|klaus.herrmannd5@...|My name is Klaus ...|\n",
      "|53f444badabfaee0d...|          Gero Mühl|gero.mühl9e@gmail...|My name is Gero M...|\n",
      "|53f45b35dabfaee1c...|  Michael A. Jaeger|michael.a..jaeger...|My name is Michae...|\n",
      "|53f43531dabfaeb2a...|         D. Stevens|d..stevensb0@gmai...|My name is D. Ste...|\n",
      "|54329aafdabfaeb4c...|      S. Dragicevic|s..dragicevic75@g...|My name is S. Dra...|\n",
      "|53f39faadabfae4b3...|   Kristina Rothley|kristina.rothleya...|My name is Kristi...|\n",
      "|53f43421dabfaeee2...|   Adrian Mackenzie|adrian.mackenzie6...|My name is Adrian...|\n",
      "|5484ee67dabfaed7b...|       Michael Pidd|michael.pidd1f@gm...|My name is Michae...|\n",
      "|53f42f95dabfaee4d...|       John Rooksby|john.rooksbydd@gm...|My name is John R...|\n",
      "+--------------------+-------------------+--------------------+--------------------+\n",
      "only showing top 20 rows\n",
      "\n"
     ]
    },
    {
     "name": "stderr",
     "output_type": "stream",
     "text": [
      "                                                                                \r"
     ]
    }
   ],
   "source": [
    "#AUTHOR TABLE\n",
    "from pyspark.sql.types import StructType, StructField, StringType, ArrayType\n",
    "from pyspark.sql.functions import explode\n",
    "\n",
    "schemaAut = StructType(\n",
    "            [StructField('authors', ArrayType(StructType([\n",
    "                StructField('_id', StringType(), True),\n",
    "                StructField('name', StringType(), True),\n",
    "                StructField('email', StringType(), True),\n",
    "                StructField('bio', StringType(), True),\n",
    "                ])), True)\n",
    "            ])\n",
    "\n",
    "dfAut = spark.read.format('json').option(\"multiline\", True).schema(schemaAut).json('bib.json')\n",
    "dfAut = dfAut.select(explode(dfAut.authors))\n",
    "dfAut = dfAut.withColumnRenamed(\"col\", \"authors\")\n",
    "dfAut = dfAut.select(\"authors._id\",\"authors.name\",\"authors.email\",\"authors.bio\")\n",
    "dfAut = dfAut.withColumnRenamed(\"_id\", \"authorID\")\n",
    "dfAut.printSchema()\n",
    "dfAut.show()"
   ],
   "metadata": {
    "collapsed": false
   }
  },
  {
   "cell_type": "code",
   "execution_count": 153,
   "outputs": [
    {
     "name": "stdout",
     "output_type": "stream",
     "text": [
      "root\n",
      " |-- _id: string (nullable = true)\n",
      " |-- title: string (nullable = true)\n",
      " |-- keywords: array (nullable = true)\n",
      " |    |-- element: string (containsNull = true)\n",
      " |-- fos: array (nullable = true)\n",
      " |    |-- element: string (containsNull = true)\n",
      " |-- page_start: integer (nullable = true)\n",
      " |-- page_end: integer (nullable = true)\n",
      " |-- lang: string (nullable = true)\n",
      " |-- doi: string (nullable = true)\n",
      " |-- url: array (nullable = true)\n",
      " |    |-- element: string (containsNull = true)\n",
      " |-- abstract: string (nullable = true)\n",
      " |-- publication_type: string (nullable = true)\n",
      "\n"
     ]
    },
    {
     "name": "stderr",
     "output_type": "stream",
     "text": [
      "                                                                                \r"
     ]
    },
    {
     "name": "stdout",
     "output_type": "stream",
     "text": [
      "+--------------------+--------------------+--------------------+--------------------+----------+--------+----+--------------------+--------------------+--------------------+----------------+\n",
      "|                 _id|               title|            keywords|                 fos|page_start|page_end|lang|                 doi|                 url|            abstract|publication_type|\n",
      "+--------------------+--------------------+--------------------+--------------------+----------+--------+----+--------------------+--------------------+--------------------+----------------+\n",
      "|53e99784b7602d970...|Using XML to Inte...|[internet, hyperm...|[xml base, world ...|       167|     172|  en|10.1109/CMPSAC.20...|[http://dx.doi.or...|The eXtensible Ma...|            Book|\n",
      "|53e99784b7602d970...|               FCLOS|[molap, subsumpti...|[information syst...|       192|     220|  en|10.1016/j.datak.2...|[http://dx.doi.or...|Mobile online ana...|         Journal|\n",
      "|53e99785b7602d970...|              Bhoomi|[icts, e governan...|[revenue, transpa...|        20|      31|  en|10.1016/j.tele.20...|[http://dx.doi.or...|The emergence of ...|         Journal|\n",
      "|53e9978ab7602d970...|                Laps|[health care, hom...|[health care, pop...|       962|     976|  en|10.1016/j.ejor.20...|[http://dx.doi.or...|The health care s...|         Journal|\n",
      "|53e9978db7602d970...|             Mindful|[meta learning, h...|[data science, ro...|      3253|    3274|  en|10.1016/j.ins.200...|[http://dx.doi.or...|Common inductive ...|         Journal|\n",
      "|53e9978db7602d970...|             MESHMdl|[tuple space, mob...|[middleware, mobi...|       467|     487|  en|10.1016/j.pmcj.20...|[http://dx.doi.or...|Mobile ad hoc net...|         Journal|\n",
      "|53e9978db7602d970...|               iCity|[irregular cellul...|[software tool, a...|       761|     773|  en|10.1016/j.envsoft...|[http://dx.doi.or...|The objective of ...|         Journal|\n",
      "|53e9978db7602d970...|              Wisdom|[decision support...|[cognitive map, r...|       156|     171|  en|10.1016/j.ejor.20...|[http://dx.doi.or...|Many decision sup...|         Journal|\n",
      "|53e99792b7602d970...|        SwissAnalyst|         [key words]|[computer science...|       393|     406|  en|10.1007/1-4020-81...|                null|This paper introd...|      Conference|\n",
      "|53e99792b7602d970...|Short-Term Traffi...|[considerable acc...|[spline mathemati...|       669|     675|  en|10.1109/FSKD.2008...|[http://dx.doi.or...|A promising traff...|      Conference|\n",
      "|53e99792b7602d970...|An approach to fe...|[feature location...|[data mining, cau...|        57|      68|  en|10.1016/j.jss.200...|[http://dx.doi.or...|This paper descri...|         Journal|\n",
      "|53e99792b7602d970...|Nested Graph-Stru...|[nested graph str...|[adjacency matrix...|         1|      12|  en|  10.1007/BFb0056317|[http://dx.doi.or...|This paper descri...|            Book|\n",
      "|53e99792b7602d970...|Demo: Yalut -- us...|[cellular data tr...|[world wide web, ...|       360|     361|  en|10.1145/2594368.2...|[http://dx.doi.or...|Yalut is a novel ...|      Conference|\n",
      "|53e99792b7602d970...|A Uniform Paralle...|[knowledge discov...|[data mining, dat...|       306|     312|  en|10.1007/978-3-540...|[http://dx.doi.or...|Grid is a new sol...|         Journal|\n",
      "|53e99792b7602d970...|WAVELET-BASED IMA...|[mathematical mod...|[computer vision,...|      1737|    1740|  en|10.1109/ICIP.2010...|[http://dx.doi.or...|Because digital i...|      Conference|\n",
      "|53e99792b7602d970...|A fuzzy multi-obj...|[location, fire s...|[objective progra...|       903|     915|  en|10.1016/j.ejor.20...|[http://dx.doi.or...|Location of fire ...|         Journal|\n",
      "|53e99792b7602d970...|Adaptive presenta...|[evolving informa...|[metadata, progra...|       193|     196|  en|10.1109/ICALT.200...|[http://dx.doi.or...|The article descr...|            Book|\n",
      "|53e99792b7602d970...|Testing the stabi...|[asymptotic justi...|[functional princ...|       352|     367|  en|10.1016/j.jmva.20...|[http://dx.doi.or...|The functional au...|         Journal|\n",
      "|53e99792b7602d970...|Statistical Prope...|[power cables, po...|[topology, trippi...|      2517|    2526|  en|10.1109/HICSS.201...|[http://dx.doi.or...|We present the sy...|      Conference|\n",
      "|53e99792b7602d970...|Generating novel ...|[adaptive behavio...|[interactive evol...|         8|      14|  en|10.1145/1056754.1...|[http://dx.doi.or...|Simulated evoluti...|         Journal|\n",
      "+--------------------+--------------------+--------------------+--------------------+----------+--------+----+--------------------+--------------------+--------------------+----------------+\n",
      "only showing top 20 rows\n",
      "\n"
     ]
    }
   ],
   "source": [
    "# PAPER TABLE\n",
    "from pyspark.sql.types import StructType, StructField, StringType, IntegerType, ArrayType\n",
    "\n",
    "schemaPaper = StructType(\n",
    "            [StructField('_id', StringType(), True),\n",
    "             StructField('title', StringType(),True),\n",
    "             StructField('keywords', ArrayType(StringType()), True),\n",
    "             StructField('fos', ArrayType(StringType()), True),\n",
    "             StructField('page_start', IntegerType(), True),\n",
    "             StructField('page_end', IntegerType(), True),\n",
    "             StructField('lang', StringType(),True),\n",
    "             StructField('doi', StringType(),True),\n",
    "             StructField('url', ArrayType(StringType()),True),\n",
    "             StructField('abstract', StringType(),True),\n",
    "             StructField('publication_type', StringType(),True)\n",
    "            ])\n",
    "\n",
    "dfPaper = spark.read.format('json').option(\"multiline\", True).schema(schemaPaper).json('bib.json')\n",
    "dfPaper.printSchema()\n",
    "dfPaper.show()"
   ],
   "metadata": {
    "collapsed": false
   }
  },
  {
   "cell_type": "code",
   "execution_count": 154,
   "outputs": [
    {
     "name": "stdout",
     "output_type": "stream",
     "text": [
      "root\n",
      " |-- paperId: string (nullable = true)\n",
      " |-- authorID: string (nullable = true)\n",
      " |-- org: string (nullable = true)\n",
      "\n",
      "+--------------------+--------------------+--------------------+\n",
      "|             paperId|            authorID|                 org|\n",
      "+--------------------+--------------------+--------------------+\n",
      "|53e99784b7602d970...|548a2e3ddabfae9b4...|                null|\n",
      "|53e99784b7602d970...|53f43b64dabfaefed...|Corresponding aut...|\n",
      "|53e99784b7602d970...|53f43354dabfaedd7...|Freie Universität...|\n",
      "|53e99784b7602d970...|53f443b6dabfaeecd...|Freie Universität...|\n",
      "|53e99785b7602d970...|53f43640dabfaedf4...|Tel.: +61 7 336 5...|\n",
      "|53e9978ab7602d970...|53f42d5cdabfaee2a...|Optimal Solutions...|\n",
      "|53e9978ab7602d970...|53f433bedabfaee4d...|Division of Optim...|\n",
      "|53e9978ab7602d970...|53f4538adabfaec22...|Division of Optim...|\n",
      "|53e9978db7602d970...|5448a3b5dabfae87b...|Corresponding aut...|\n",
      "|53e9978db7602d970...|54343235dabfaebba...|CILab – Computati...|\n",
      "|53e9978db7602d970...|5405bdb6dabfae8fa...|CILab – Computati...|\n",
      "|53e9978db7602d970...|5601798145cedb339...|University of Stu...|\n",
      "|53e9978db7602d970...|53f444badabfaee0d...|Berlin University...|\n",
      "|53e9978db7602d970...|53f45b35dabfaee1c...|Berlin University...|\n",
      "|53e9978db7602d970...|53f43531dabfaeb2a...|Spatial Analysis ...|\n",
      "|53e9978db7602d970...|54329aafdabfaeb4c...|Spatial Analysis ...|\n",
      "|53e9978db7602d970...|53f39faadabfae4b3...|School of Resourc...|\n",
      "|53e9978db7602d970...|53f43421dabfaeee2...|Institute for Cul...|\n",
      "|53e9978db7602d970...|5484ee67dabfaed7b...|Department of Man...|\n",
      "|53e9978db7602d970...|53f42f95dabfaee4d...|Department of Com...|\n",
      "+--------------------+--------------------+--------------------+\n",
      "only showing top 20 rows\n",
      "\n"
     ]
    }
   ],
   "source": [
    "# AFFILIATION TABLE\n",
    "from pyspark.sql.types import StructType, StructField, StringType, ArrayType\n",
    "from pyspark.sql.functions import explode\n",
    "\n",
    "schemaAffiliation = StructType(\n",
    "            [StructField('_id', StringType(), True),\n",
    "             StructField('authors', ArrayType(StructType([\n",
    "                    StructField('_id', StringType(), True),\n",
    "                    StructField('org', StringType(), True)\n",
    "             ])), True),\n",
    "            ])\n",
    "\n",
    "dfAff = spark.read.format('json').option(\"multiline\", True).schema(schemaAffiliation).json('bib.json')\n",
    "dfAff = dfAff.withColumnRenamed(\"_id\", \"paperID\")\n",
    "dfAff = dfAff.select(\"paperId\", explode(dfAff.authors))\n",
    "dfAff = dfAff.withColumnRenamed(\"col\", \"authors\")\n",
    "dfAff = dfAff.select(\"paperId\", \"authors._id\",\"authors.org\")\n",
    "dfAff = dfAff.withColumnRenamed(\"_id\", \"authorID\")\n",
    "dfAff = dfAff.withColumnRenamed(\"organization\", \"authorID\")\n",
    "dfAff.printSchema()\n",
    "dfAff.show()"
   ],
   "metadata": {
    "collapsed": false
   }
  },
  {
   "cell_type": "code",
   "execution_count": 154,
   "outputs": [],
   "source": [],
   "metadata": {
    "collapsed": false
   }
  }
 ],
 "metadata": {
  "kernelspec": {
   "display_name": "Python 3",
   "language": "python",
   "name": "python3"
  },
  "language_info": {
   "codemirror_mode": {
    "name": "ipython",
    "version": 2
   },
   "file_extension": ".py",
   "mimetype": "text/x-python",
   "name": "python",
   "nbconvert_exporter": "python",
   "pygments_lexer": "ipython2",
   "version": "2.7.6"
  }
 },
 "nbformat": 4,
 "nbformat_minor": 0
}
