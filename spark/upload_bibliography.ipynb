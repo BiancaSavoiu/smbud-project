{
 "cells": [
  {
   "cell_type": "code",
   "execution_count": 77,
   "outputs": [],
   "source": [
    "# With sparkSession we create a connection to our database\n",
    "from pyspark.sql import SparkSession\n",
    "from pyspark.sql.functions import explode, col, collect_list\n",
    "from pyspark.sql.types import StructType, StructField, StringType, IntegerType, ArrayType, TimestampType\n",
    "\n",
    "# Create an entry point to the PySpark Application\n",
    "spark = SparkSession.builder \\\n",
    "    .master(\"local\") \\\n",
    "    .appName(\"Bibliography\") \\\n",
    "    .getOrCreate()\n",
    "\n",
    "INPUT_FILE = \"bibliography.json\"\n",
    "OPTIONS = {'multiline': 'true', 'allowNumericLeadingZero': 'true', 'timestampFormat': \"yyyy-MM-dd'T'HH:mm:ss[.ZZZ'Z']\"}"
   ],
   "metadata": {
    "collapsed": false,
    "pycharm": {
     "name": "#%%\n"
    }
   }
  },
  {
   "cell_type": "code",
   "execution_count": 119,
   "outputs": [
    {
     "name": "stdout",
     "output_type": "stream",
     "text": [
      "root\n",
      " |-- authorID: string (nullable = true)\n",
      " |-- name: string (nullable = true)\n",
      " |-- email: string (nullable = true)\n",
      " |-- bio: array (nullable = false)\n",
      " |    |-- element: string (containsNull = false)\n",
      "\n",
      "+--------------------+------------------+--------------------+--------------------+\n",
      "|            authorID|              name|               email|                 bio|\n",
      "+--------------------+------------------+--------------------+--------------------+\n",
      "|53f3186fdabfae9a8...|   A. M. A. Hariri|a..m..a..hariride...|[My name is A. M....|\n",
      "|53f3186fdabfae9a8...|    Matthew Prowse|matthew.prowsefb@...|[My name is Matth...|\n",
      "|53f31870dabfae9a8...|       Sui-ping Qi|sui-ping.qi19@gma...|[My name is Sui-p...|\n",
      "|53f31871dabfae9a8...|     Renato Fabbri|renato.fabbrib7@g...|[My name is Renat...|\n",
      "|53f31873dabfae9a8...|   Joachim Schimpf|joachim.schimpf8a...|[My name is Joach...|\n",
      "|53f31874dabfae9a8...|    E. Di Bernardo|e..di.bernardo10@...|[My name is E. Di...|\n",
      "|53f31875dabfae9a8...|    Steven F. Roth|steven.f..roth46@...|[My name is Steve...|\n",
      "|53f31878dabfae9a8...|      Nima Zahadat|nima.zahadat3d@gm...|[My name is Nima ...|\n",
      "|53f3187ddabfae9a8...|         Ke Fa Cen|ke.fa.cen23@gmail...|[My name is Ke Fa...|\n",
      "|53f31881dabfae9a8...|    Ricky Houghton|ricky.houghton97@...|[My name is Ricky...|\n",
      "|53f31881dabfae9a8...|Eduardo H. Ramirez|eduardo.h..ramire...|[My name is Eduar...|\n",
      "|53f31883dabfae9a8...| Cassidy J. Curtis|cassidy.j..curtis...|[My name is Cassi...|\n",
      "|53f31885dabfae9a8...|  Brian D. Koblenz|brian.d..koblenz4...|[My name is Brian...|\n",
      "|53f31887dabfae9a8...|        Guohua Wan|guohua.wanca@gmai...|[My name is Guohu...|\n",
      "|53f3188adabfae9a8...|     Irineu Theiss|irineu.theissfe@g...|[My name is Irine...|\n",
      "|53f31892dabfae9a8...|     Derek Yip-Hoi|derek.yip-hoidd@g...|[My name is Derek...|\n",
      "|53f31892dabfae9a8...|     Soo-Hyung Kim|soo-hyung.kimf5@g...|[My name is Soo-H...|\n",
      "|53f31893dabfae9a8...|      Harold Lorin|harold.lorin7c@gm...|[My name is Harol...|\n",
      "|53f3189ddabfae9a8...|    J. Nagy-György|j..nagy-györgyf4@...|[My name is J. Na...|\n",
      "|53f3189ddabfae9a8...|    Roy Varshavsky|roy.varshavsky1d@...|[My name is Roy V...|\n",
      "+--------------------+------------------+--------------------+--------------------+\n",
      "only showing top 20 rows\n",
      "\n"
     ]
    },
    {
     "name": "stderr",
     "output_type": "stream",
     "text": [
      "                                                                                \r"
     ]
    }
   ],
   "source": [
    "#AUTHOR TABLE\n",
    "schemaAut = StructType(\n",
    "    [StructField('authors', ArrayType(StructType([\n",
    "        StructField('_id', StringType(), True),\n",
    "        StructField('name', StringType(), True),\n",
    "        StructField('email', StringType(), True),\n",
    "        StructField('bio', StringType(), True),\n",
    "    ])), True)\n",
    "     ])\n",
    "\n",
    "dfAut = spark.read.format('json').options(**OPTIONS).schema(schemaAut).json(INPUT_FILE)\n",
    "dfAut = dfAut.select(explode(dfAut.authors))\n",
    "dfAut = dfAut.withColumnRenamed(\"col\", \"authors\")\n",
    "dfAut = dfAut.filter(col(\"authors._id\") != 'null').select(\"authors._id\", \"authors.name\", \"authors.email\", \"authors.bio\")\n",
    "dfAut = dfAut.withColumnRenamed(\"_id\", \"authorID\")\n",
    "# Authors with same ID are merged and all the bio are collected in a list\n",
    "dfAut = dfAut.groupBy('authorID', 'name', 'email').agg(collect_list('bio').alias('bio'))\n",
    "\n",
    "dfAut.printSchema()\n",
    "dfAut.show()"
   ],
   "metadata": {
    "collapsed": false,
    "pycharm": {
     "name": "#%%\n"
    }
   }
  },
  {
   "cell_type": "code",
   "execution_count": 109,
   "outputs": [
    {
     "name": "stdout",
     "output_type": "stream",
     "text": [
      "root\n",
      " |-- paperID: string (nullable = true)\n",
      " |-- title: string (nullable = true)\n",
      " |-- keywords: array (nullable = true)\n",
      " |    |-- element: string (containsNull = true)\n",
      " |-- fos: array (nullable = true)\n",
      " |    |-- element: string (containsNull = true)\n",
      " |-- references: array (nullable = true)\n",
      " |    |-- element: string (containsNull = true)\n",
      " |-- page_start: integer (nullable = true)\n",
      " |-- page_end: integer (nullable = true)\n",
      " |-- lang: string (nullable = true)\n",
      " |-- doi: string (nullable = true)\n",
      " |-- url: array (nullable = true)\n",
      " |    |-- element: string (containsNull = true)\n",
      " |-- abstract: string (nullable = true)\n",
      " |-- publication_type: string (nullable = true)\n",
      " |-- date: timestamp (nullable = true)\n",
      "\n"
     ]
    },
    {
     "name": "stderr",
     "output_type": "stream",
     "text": [
      "[Stage 277:>                                                        (0 + 1) / 1]\r"
     ]
    },
    {
     "name": "stdout",
     "output_type": "stream",
     "text": [
      "+--------------------+--------------------+--------------------+--------------------+--------------------+----------+--------+----+--------------------+--------------------+--------------------+----------------+-------------------+\n",
      "|             paperID|               title|            keywords|                 fos|          references|page_start|page_end|lang|                 doi|                 url|            abstract|publication_type|               date|\n",
      "+--------------------+--------------------+--------------------+--------------------+--------------------+----------+--------+----+--------------------+--------------------+--------------------+----------------+-------------------+\n",
      "|53e99784b7602d970...|Using XML to Inte...|[internet, hyperm...|[xml base, world ...|[53e9adbdb7602d97...|       167|     172|  en|10.1109/CMPSAC.20...|[http://dx.doi.or...|The eXtensible Ma...|            Book|1974-09-13 06:34:29|\n",
      "|53e99784b7602d970...|               FCLOS|[molap, subsumpti...|[information syst...|[53e99ee0b7602d97...|       192|     220|  en|10.1016/j.datak.2...|[http://dx.doi.or...|Mobile online ana...|         Journal|1950-04-14 05:33:22|\n",
      "|53e99785b7602d970...|              Bhoomi|[icts, e governan...|[revenue, transpa...|[53e9b2ffb7602d97...|        20|      31|  en|10.1016/j.tele.20...|[http://dx.doi.or...|The emergence of ...|         Journal|1984-04-06 03:49:29|\n",
      "|53e9978ab7602d970...|                Laps|[health care, hom...|[health care, pop...|[573695936e3b1202...|       962|     976|  en|10.1016/j.ejor.20...|[http://dx.doi.or...|The health care s...|         Journal|1951-10-28 04:52:04|\n",
      "|53e9978db7602d970...|             Mindful|[meta learning, h...|[data science, ro...|[53e9b0c2b7602d97...|      3253|    3274|  en|10.1016/j.ins.200...|[http://dx.doi.or...|Common inductive ...|         Journal|1955-04-13 19:06:45|\n",
      "|53e9978db7602d970...|             MESHMdl|[tuple space, mob...|[middleware, mobi...|[53e99a49b7602d97...|       467|     487|  en|10.1016/j.pmcj.20...|[http://dx.doi.or...|Mobile ad hoc net...|         Journal|2009-09-23 09:35:36|\n",
      "|53e9978db7602d970...|               iCity|[irregular cellul...|[software tool, a...|[53e9ac54b7602d97...|       761|     773|  en|10.1016/j.envsoft...|[http://dx.doi.or...|The objective of ...|         Journal|2002-05-14 19:30:38|\n",
      "|53e9978db7602d970...|              Wisdom|[decision support...|[cognitive map, r...|[53e99b7eb7602d97...|       156|     171|  en|10.1016/j.ejor.20...|[http://dx.doi.or...|Many decision sup...|         Journal|1987-12-30 04:51:23|\n",
      "|53e99792b7602d970...|        SwissAnalyst|         [key words]|[computer science...|[5c795a6e4895d9cb...|       393|     406|  en|10.1007/1-4020-81...|                null|This paper introd...|      Conference|1991-03-30 19:52:33|\n",
      "|53e99792b7602d970...|Short-Term Traffi...|[considerable acc...|[spline mathemati...|[53e9b95bb7602d97...|       669|     675|  en|10.1109/FSKD.2008...|[http://dx.doi.or...|A promising traff...|      Conference|2020-03-15 04:13:40|\n",
      "|53e99792b7602d970...|An approach to fe...|[feature location...|[data mining, cau...|[53e9b6eeb7602d97...|        57|      68|  en|10.1016/j.jss.200...|[http://dx.doi.or...|This paper descri...|         Journal|2012-05-05 11:48:40|\n",
      "|53e99792b7602d970...|Nested Graph-Stru...|[nested graph str...|[adjacency matrix...|[53e9b049b7602d97...|         1|      12|  en|  10.1007/BFb0056317|[http://dx.doi.or...|This paper descri...|            Book|1965-07-21 08:40:34|\n",
      "|53e99792b7602d970...|Demo: Yalut -- us...|[cellular data tr...|[world wide web, ...|[53e9b04eb7602d97...|       360|     361|  en|10.1145/2594368.2...|[http://dx.doi.or...|Yalut is a novel ...|      Conference|2009-02-24 08:00:34|\n",
      "|53e99792b7602d970...|A Uniform Paralle...|[knowledge discov...|[data mining, dat...|[53e99cbbb7602d97...|       306|     312|  en|10.1007/978-3-540...|[http://dx.doi.or...|Grid is a new sol...|         Journal|2015-02-28 22:51:57|\n",
      "|53e99792b7602d970...|WAVELET-BASED IMA...|[mathematical mod...|[computer vision,...|[53e9b550b7602d97...|      1737|    1740|  en|10.1109/ICIP.2010...|[http://dx.doi.or...|Because digital i...|      Conference|2005-12-16 23:43:26|\n",
      "|53e99792b7602d970...|A fuzzy multi-obj...|[location, fire s...|[objective progra...|[53e9bd50b7602d97...|       903|     915|  en|10.1016/j.ejor.20...|[http://dx.doi.or...|Location of fire ...|         Journal|1971-12-17 16:55:38|\n",
      "|53e99792b7602d970...|Adaptive presenta...|[evolving informa...|[metadata, progra...|[53e9a2c8b7602d97...|       193|     196|  en|10.1109/ICALT.200...|[http://dx.doi.or...|The article descr...|            Book|2011-05-08 17:41:02|\n",
      "|53e99792b7602d970...|Testing the stabi...|[asymptotic justi...|[functional princ...|[53e9ace1b7602d97...|       352|     367|  en|10.1016/j.jmva.20...|[http://dx.doi.or...|The functional au...|         Journal|1984-05-13 13:56:58|\n",
      "|53e99792b7602d970...|Statistical Prope...|[power cables, po...|[topology, trippi...|[53e9a7ddb7602d97...|      2517|    2526|  en|10.1109/HICSS.201...|[http://dx.doi.or...|We present the sy...|      Conference|2018-08-18 19:58:00|\n",
      "|53e99792b7602d970...|Generating novel ...|[adaptive behavio...|[interactive evol...|[53e9bc80b7602d97...|         8|      14|  en|10.1145/1056754.1...|[http://dx.doi.or...|Simulated evoluti...|         Journal|2021-05-05 05:11:38|\n",
      "+--------------------+--------------------+--------------------+--------------------+--------------------+----------+--------+----+--------------------+--------------------+--------------------+----------------+-------------------+\n",
      "only showing top 20 rows\n",
      "\n"
     ]
    },
    {
     "name": "stderr",
     "output_type": "stream",
     "text": [
      "                                                                                \r"
     ]
    }
   ],
   "source": [
    "# PAPER TABLE\n",
    "schemaPaper = StructType(\n",
    "    [StructField('_id', StringType(), True),\n",
    "     StructField('title', StringType(), True),\n",
    "     StructField('keywords', ArrayType(StringType()), True),\n",
    "     StructField('fos', ArrayType(StringType()), True),\n",
    "     StructField('references', ArrayType(StringType()), True),\n",
    "     StructField('page_start', IntegerType(), True),\n",
    "     StructField('page_end', IntegerType(), True),\n",
    "     StructField('lang', StringType(), True),\n",
    "     StructField('doi', StringType(), True),\n",
    "     StructField('url', ArrayType(StringType()), True),\n",
    "     StructField('abstract', StringType(), True),\n",
    "     StructField('publication_type', StringType(), True),\n",
    "     StructField('date', TimestampType(), True)\n",
    "     #Missing: 'publication_id'\n",
    "     ])\n",
    "\n",
    "dfPaper = spark.read.format('json').options(**OPTIONS).schema(schemaPaper).json(INPUT_FILE)\n",
    "dfPaper = dfPaper.withColumnRenamed(\"_id\", \"paperID\")\n",
    "dfPaper.printSchema()\n",
    "dfPaper.show()"
   ],
   "metadata": {
    "collapsed": false,
    "pycharm": {
     "name": "#%%\n"
    }
   }
  },
  {
   "cell_type": "code",
   "execution_count": 114,
   "outputs": [
    {
     "name": "stdout",
     "output_type": "stream",
     "text": [
      "root\n",
      " |-- paperID: string (nullable = true)\n",
      " |-- authorID: string (nullable = true)\n",
      " |-- organization: string (nullable = true)\n",
      "\n",
      "+--------------------+--------------------+--------------------+\n",
      "|             paperID|            authorID|        organization|\n",
      "+--------------------+--------------------+--------------------+\n",
      "|53e99784b7602d970...|548a2e3ddabfae9b4...|                null|\n",
      "|53e99784b7602d970...|53f43b64dabfaefed...|Corresponding aut...|\n",
      "|53e99784b7602d970...|53f43354dabfaedd7...|Freie Universität...|\n",
      "|53e99784b7602d970...|53f443b6dabfaeecd...|Freie Universität...|\n",
      "|53e99785b7602d970...|53f43640dabfaedf4...|Tel.: +61 7 336 5...|\n",
      "|53e9978ab7602d970...|53f42d5cdabfaee2a...|Optimal Solutions...|\n",
      "|53e9978ab7602d970...|53f433bedabfaee4d...|Division of Optim...|\n",
      "|53e9978ab7602d970...|53f4538adabfaec22...|Division of Optim...|\n",
      "|53e9978db7602d970...|5448a3b5dabfae87b...|Corresponding aut...|\n",
      "|53e9978db7602d970...|54343235dabfaebba...|CILab – Computati...|\n",
      "|53e9978db7602d970...|5405bdb6dabfae8fa...|CILab – Computati...|\n",
      "|53e9978db7602d970...|5601798145cedb339...|University of Stu...|\n",
      "|53e9978db7602d970...|53f444badabfaee0d...|Berlin University...|\n",
      "|53e9978db7602d970...|53f45b35dabfaee1c...|Berlin University...|\n",
      "|53e9978db7602d970...|53f43531dabfaeb2a...|Spatial Analysis ...|\n",
      "|53e9978db7602d970...|54329aafdabfaeb4c...|Spatial Analysis ...|\n",
      "|53e9978db7602d970...|53f39faadabfae4b3...|School of Resourc...|\n",
      "|53e9978db7602d970...|53f43421dabfaeee2...|Institute for Cul...|\n",
      "|53e9978db7602d970...|5484ee67dabfaed7b...|Department of Man...|\n",
      "|53e9978db7602d970...|53f42f95dabfaee4d...|Department of Com...|\n",
      "+--------------------+--------------------+--------------------+\n",
      "only showing top 20 rows\n",
      "\n"
     ]
    }
   ],
   "source": [
    "# AFFILIATION TABLE\n",
    "schemaAffiliation = StructType(\n",
    "    [StructField('_id', StringType(), True),\n",
    "     StructField('authors', ArrayType(StructType([\n",
    "         StructField('_id', StringType(), True),\n",
    "         StructField('org', StringType(), True)\n",
    "     ])), True),\n",
    "     ])\n",
    "\n",
    "dfAff = spark.read.format('json').options(**OPTIONS).schema(schemaAffiliation).json(INPUT_FILE)\n",
    "dfAff = dfAff.withColumnRenamed(\"_id\", \"paperID\")\n",
    "dfAff = dfAff.select(\"paperID\", explode(dfAff.authors))\n",
    "dfAff = dfAff.withColumnRenamed(\"col\", \"authors\")\n",
    "dfAff = dfAff.select(\"paperID\", \"authors._id\", \"authors.org\")\n",
    "dfAff = dfAff.withColumnRenamed(\"_id\", \"authorID\")\n",
    "dfAff = dfAff.withColumnRenamed(\"org\", \"organization\")\n",
    "dfAff.printSchema()\n",
    "dfAff.show()"
   ],
   "metadata": {
    "collapsed": false,
    "pycharm": {
     "name": "#%%\n"
    }
   }
  },
  {
   "cell_type": "code",
   "execution_count": 72,
   "outputs": [
    {
     "name": "stdout",
     "output_type": "stream",
     "text": [
      "root\n",
      " |-- isbn: string (nullable = true)\n",
      " |-- publisher: string (nullable = true)\n",
      " |-- venue: string (nullable = true)\n",
      "\n"
     ]
    },
    {
     "name": "stderr",
     "output_type": "stream",
     "text": [
      "                                                                                \r"
     ]
    },
    {
     "name": "stdout",
     "output_type": "stream",
     "text": [
      "+-----------------+--------------------+--------------------+\n",
      "|             isbn|           publisher|               venue|\n",
      "+-----------------+--------------------+--------------------+\n",
      "|    0-7695-1727-7|            Elsevier|             COMPSAC|\n",
      "|    3-540-64990-5|   Springer New York|               EWCBR|\n",
      "|    0-7695-1013-2|            Elsevier|               ICALT|\n",
      "|    1-4244-0387-1|      Intellect Ltd.|              APCCAS|\n",
      "|    0-7695-1822-2|Multidisciplinary...|                FOCS|\n",
      "|    0-7695-2616-0|       Science Press|          ICICIC (3)|\n",
      "|978-0-7695-4157-0|Tsinghua Universi...|      ICPP Workshops|\n",
      "|    1-59593-049-3|Taylor and Franci...|                  EC|\n",
      "|    0-7695-2586-5|      Intellect Ltd.|              VL/HCC|\n",
      "|    0-7695-3056-7|The American Soci...|                ICAT|\n",
      "|978-1-4244-9864-2|Taylor and Franci...|Winter Simulation...|\n",
      "|978-1-4503-0923-3|Association of Fo...|Symposium on Comp...|\n",
      "|    0-7695-2125-8|Asia Digital Art ...|                ECBS|\n",
      "| 0-7695-2408-7-02|      Intellect Ltd.|            IEEE SCC|\n",
      "|    3-540-28009-X|Universidad Inter...|                LCPC|\n",
      "|978-1-4244-9919-9| Pleiades Publishing|             INFOCOM|\n",
      "|    3-540-42493-8|Open Library of H...|                 ESA|\n",
      "|    3-540-77961-2|Higher Education ...|                 DNA|\n",
      "|    0-89791-906-8|Multidisciplinary...|Symposium on Prin...|\n",
      "|    1-55860-332-8|        SpringerOpen|UAI'94 Proceeding...|\n",
      "+-----------------+--------------------+--------------------+\n",
      "only showing top 20 rows\n",
      "\n",
      "+-----+\n",
      "|count|\n",
      "+-----+\n",
      "|14175|\n",
      "+-----+\n",
      "\n"
     ]
    }
   ],
   "source": [
    "# BOOK TABLE\n",
    "schemaBook = StructType(\n",
    "    [StructField('isbn', StringType(), True),\n",
    "     StructField('publisher', StringType(), True),\n",
    "     StructField('venue', StringType(), True),\n",
    "     StructField('publication_type', StringType(), True)\n",
    "     #Missing: 'publication_id'\n",
    "     ])\n",
    "\n",
    "dfBook = spark.read.format('json').options(**OPTIONS).schema(schemaBook).json(INPUT_FILE)\n",
    "dfBook = dfBook.filter(col('publication_type') == 'Book')\n",
    "dfBook = dfBook.filter(col('isbn') != 'null')\n",
    "dfBook = dfBook.filter(col('venue') != 'null')\n",
    "dfBook = dfBook.select('isbn', 'publisher', 'venue')\n",
    "dfBook.printSchema()\n",
    "dfBook.show()"
   ],
   "metadata": {
    "collapsed": false,
    "pycharm": {
     "name": "#%%\n"
    }
   }
  },
  {
   "cell_type": "code",
   "execution_count": 47,
   "outputs": [
    {
     "name": "stdout",
     "output_type": "stream",
     "text": [
      "root\n",
      " |-- issn: string (nullable = true)\n",
      " |-- publisher: string (nullable = true)\n",
      " |-- venue: string (nullable = true)\n",
      " |-- issue: integer (nullable = true)\n",
      " |-- volume: integer (nullable = true)\n",
      "\n",
      "+---------+--------------------+--------------------+-----+------+\n",
      "|     issn|           publisher|               venue|issue|volume|\n",
      "+---------+--------------------+--------------------+-----+------+\n",
      "|0736-5853|            Elsevier|Telematics and In...|    1|    26|\n",
      "|0377-2217|            Elsevier|European Journal ...|    3|   171|\n",
      "|0020-0255| IOP Publishing Ltd.|Information Sciences|   16|   178|\n",
      "|1574-1192|     Springer Verlag|Pervasive and Mob...|    4|     3|\n",
      "|1364-8152|John Wiley and So...|Environmental Mod...|    6|    22|\n",
      "|0377-2217|Taylor and Franci...|European Journal ...|    1|   170|\n",
      "|0164-1212| Pleiades Publishing|Journal of System...|    1|    79|\n",
      "|0377-2217|            Elsevier|European Journal ...|    2|   181|\n",
      "|0196-6774|Editorial and Pub...|Journal of Algori...|    2|    47|\n",
      "|1471-2105|Iranian Academic ...|  BMC Bioinformatics|    1|     6|\n",
      "|1570-8705|Inderscience Publ...|     Ad Hoc Networks|    6|    10|\n",
      "|0929-6212|Tsinghua Universi...|Wireless Personal...|    3|    63|\n",
      "|0097-8493|     Springer Verlag|Computers and Gra...|    2|    32|\n",
      "|0098-3004|Facultad de Infor...|Computers & Geosc...|    9|    37|\n",
      "|0377-2217|Association of Fo...|EUROPEAN JOURNAL ...|    2|   120|\n",
      "|1860-4749|Innovative Inform...|J. Comput. Sci. T...|    6|    22|\n",
      "|0020-0255|World Scientific ...|Information Sciences|    8|   177|\n",
      "|0377-2217|                null|European Journal ...|    3|   164|\n",
      "|0377-2217|       Elsevier Inc.|European Journal ...|    3|   179|\n",
      "|1536-1233|IEEE Computer Soc...|IEEE Trans. Mob. ...|    1|     5|\n",
      "+---------+--------------------+--------------------+-----+------+\n",
      "only showing top 20 rows\n",
      "\n"
     ]
    }
   ],
   "source": [
    "# JOURNAL TABLE\n",
    "schemaJournal = StructType(\n",
    "    [StructField('issn', StringType(), True),\n",
    "     StructField('publisher', StringType(), True),\n",
    "     StructField('venue', StringType(), True),\n",
    "     StructField('volume', IntegerType(), True),\n",
    "     StructField('issue', IntegerType(), True),\n",
    "     StructField('publication_type', StringType(), True)\n",
    "     #Missing: 'publication_id'\n",
    "     ])\n",
    "\n",
    "dfJournal = spark.read.format('json').options(**OPTIONS).schema(schemaJournal).json(INPUT_FILE)\n",
    "dfJournal = dfJournal.filter(col('publication_type') == 'Journal')\n",
    "dfJournal = dfJournal.filter(col('issn') != 'null')\n",
    "dfJournal = dfJournal.filter(col('venue') != 'null')\n",
    "dfJournal = dfJournal.filter(col('issue') >= 0)\n",
    "dfJournal = dfJournal.filter(col('volume') >= 0)\n",
    "dfJournal = dfJournal.select('issn', 'publisher', 'venue', 'issue', 'volume')\n",
    "dfJournal.printSchema()\n",
    "dfJournal.show()"
   ],
   "metadata": {
    "collapsed": false,
    "pycharm": {
     "name": "#%%\n"
    }
   }
  },
  {
   "cell_type": "code",
   "execution_count": 49,
   "outputs": [
    {
     "name": "stdout",
     "output_type": "stream",
     "text": [
      "root\n",
      " |-- location: string (nullable = true)\n",
      " |-- venue: string (nullable = true)\n",
      "\n",
      "+-------------------+-----------------+\n",
      "|           location|            venue|\n",
      "+-------------------+-----------------+\n",
      "|  Sao Paulo, Brazil|             AIAI|\n",
      "|        Boston, USA|         FSKD (5)|\n",
      "|       Chicago, USA|          MobiSys|\n",
      "|  Sao Paulo, Brazil|             ICIP|\n",
      "|Copenhagen, Denmark|            HICSS|\n",
      "| Jakarta, Indonesia|             ACPR|\n",
      "|      Madrid, Spain|           ICASSP|\n",
      "|       Chicago, USA|   ICDM Workshops|\n",
      "| Frankfurt, Germany|              KDD|\n",
      "| Seoul, South Korea|              CHI|\n",
      "|   Los Angeles, USA|             ICMI|\n",
      "|      New York, USA|          UIC/ATC|\n",
      "|        Boston, USA|      Edutainment|\n",
      "|    Toronto, Canada|            ICWET|\n",
      "|    Toronto, Canada|             ICSM|\n",
      "| San Francisco, USA|       CODES+ISSS|\n",
      "| Seoul, South Korea|             NBiS|\n",
      "|       Tokyo, Japan|            ICICS|\n",
      "|      Mumbai, India|             MMSP|\n",
      "|       Osaka, Japan|Discovery Science|\n",
      "+-------------------+-----------------+\n",
      "only showing top 20 rows\n",
      "\n"
     ]
    }
   ],
   "source": [
    "# CONFERENCE TABLE\n",
    "schemaConf = StructType(\n",
    "    [StructField('location', StringType(), True),\n",
    "     StructField('venue', StringType(), True),\n",
    "     StructField('publication_type', StringType(), True)\n",
    "     #Missing: 'publication_id'\n",
    "     ])\n",
    "\n",
    "dfConf = spark.read.format('json').options(**OPTIONS).schema(schemaConf).json(INPUT_FILE)\n",
    "dfConf = dfConf.filter(col('publication_type') == 'Conference')\n",
    "dfConf = dfConf.filter(col('venue') != 'null')\n",
    "dfConf = dfConf.select('location', 'venue')\n",
    "dfConf.printSchema()\n",
    "dfConf.show()"
   ],
   "metadata": {
    "collapsed": false,
    "pycharm": {
     "name": "#%%\n"
    }
   }
  },
  {
   "cell_type": "code",
   "execution_count": 120,
   "outputs": [
    {
     "name": "stdout",
     "output_type": "stream",
     "text": [
      "+-------------------------------------------------------------+----------+--------+-----------+\n",
      "|title                                                        |page_start|page_end|total_pages|\n",
      "+-------------------------------------------------------------+----------+--------+-----------+\n",
      "|Using XML to Integrate Existing Software Systems into the Web|167       |172     |5          |\n",
      "|FCLOS                                                        |192       |220     |28         |\n",
      "|Bhoomi                                                       |20        |31      |11         |\n",
      "|Laps                                                         |962       |976     |14         |\n",
      "|Mindful                                                      |3253      |3274    |21         |\n",
      "+-------------------------------------------------------------+----------+--------+-----------+\n",
      "only showing top 5 rows\n",
      "\n"
     ]
    }
   ],
   "source": [
    "#Command 5 create a new column with the length of the paper(number of total pages)\n",
    "dfPaper_total_pages = dfPaper \\\n",
    "    .filter((col('page_start') >= 0) & (col('page_end') >= 0) & (col('page_start') <= col('page_end'))) \\\n",
    "    .withColumn('total_pages', col('page_end') - col('page_start'))\n",
    "\n",
    "dfPaper_total_pages \\\n",
    "    .select(col('title'), col('page_start'), col('page_end'), col('total_pages')) \\\n",
    "    .show(5, truncate=False)"
   ],
   "metadata": {
    "collapsed": false,
    "pycharm": {
     "name": "#%%\n"
    }
   }
  }
 ],
 "metadata": {
  "kernelspec": {
   "display_name": "Python 3",
   "language": "python",
   "name": "python3"
  },
  "language_info": {
   "codemirror_mode": {
    "name": "ipython",
    "version": 2
   },
   "file_extension": ".py",
   "mimetype": "text/x-python",
   "name": "python",
   "nbconvert_exporter": "python",
   "pygments_lexer": "ipython2",
   "version": "2.7.6"
  }
 },
 "nbformat": 4,
 "nbformat_minor": 0
}